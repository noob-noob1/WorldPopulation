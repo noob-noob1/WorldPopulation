{
 "cells": [
  {
   "cell_type": "code",
   "execution_count": 498,
   "metadata": {},
   "outputs": [],
   "source": [
    "import pandas as pd\n",
    "import numpy as np"
   ]
  },
  {
   "cell_type": "code",
   "execution_count": 499,
   "metadata": {},
   "outputs": [],
   "source": [
    "WorldPopulation_edu=pd.read_csv('Datasets/world-population-level-education.csv')\n",
    "WorldPopulation_Gro= pd.read_csv('Datasets/population-growth-rate.csv')"
   ]
  },
  {
   "cell_type": "code",
   "execution_count": 500,
   "metadata": {},
   "outputs": [
    {
     "data": {
      "text/html": [
       "<div>\n",
       "<style scoped>\n",
       "    .dataframe tbody tr th:only-of-type {\n",
       "        vertical-align: middle;\n",
       "    }\n",
       "\n",
       "    .dataframe tbody tr th {\n",
       "        vertical-align: top;\n",
       "    }\n",
       "\n",
       "    .dataframe thead th {\n",
       "        text-align: right;\n",
       "    }\n",
       "</style>\n",
       "<table border=\"1\" class=\"dataframe\">\n",
       "  <thead>\n",
       "    <tr style=\"text-align: right;\">\n",
       "      <th></th>\n",
       "      <th>Entity</th>\n",
       "      <th>Code</th>\n",
       "      <th>Year</th>\n",
       "      <th>Population - Education: Post Secondary</th>\n",
       "      <th>Population - Education: Upper Secondary</th>\n",
       "      <th>Population - Education: Lower Secondary</th>\n",
       "      <th>Population - Education: Primary</th>\n",
       "      <th>Population - Education: Incomplete Primary</th>\n",
       "      <th>Population - Education: No Education</th>\n",
       "      <th>Population - Education: Under 15</th>\n",
       "    </tr>\n",
       "  </thead>\n",
       "  <tbody>\n",
       "    <tr>\n",
       "      <th>0</th>\n",
       "      <td>Afghanistan</td>\n",
       "      <td>AFG</td>\n",
       "      <td>1950</td>\n",
       "      <td>800.0</td>\n",
       "      <td>5300.0</td>\n",
       "      <td>0.0</td>\n",
       "      <td>155000.0</td>\n",
       "      <td>0.0</td>\n",
       "      <td>4411200.0</td>\n",
       "      <td>3179900.0</td>\n",
       "    </tr>\n",
       "    <tr>\n",
       "      <th>1</th>\n",
       "      <td>Afghanistan</td>\n",
       "      <td>AFG</td>\n",
       "      <td>1955</td>\n",
       "      <td>1600.0</td>\n",
       "      <td>10000.0</td>\n",
       "      <td>0.0</td>\n",
       "      <td>197300.0</td>\n",
       "      <td>0.0</td>\n",
       "      <td>4633400.0</td>\n",
       "      <td>3428100.0</td>\n",
       "    </tr>\n",
       "    <tr>\n",
       "      <th>2</th>\n",
       "      <td>Afghanistan</td>\n",
       "      <td>AFG</td>\n",
       "      <td>1960</td>\n",
       "      <td>3400.0</td>\n",
       "      <td>17800.0</td>\n",
       "      <td>0.0</td>\n",
       "      <td>255100.0</td>\n",
       "      <td>0.0</td>\n",
       "      <td>4925300.0</td>\n",
       "      <td>3790800.0</td>\n",
       "    </tr>\n",
       "    <tr>\n",
       "      <th>3</th>\n",
       "      <td>Afghanistan</td>\n",
       "      <td>AFG</td>\n",
       "      <td>1965</td>\n",
       "      <td>6900.0</td>\n",
       "      <td>39300.0</td>\n",
       "      <td>0.0</td>\n",
       "      <td>320500.0</td>\n",
       "      <td>0.0</td>\n",
       "      <td>5302900.0</td>\n",
       "      <td>4265500.0</td>\n",
       "    </tr>\n",
       "    <tr>\n",
       "      <th>4</th>\n",
       "      <td>Afghanistan</td>\n",
       "      <td>AFG</td>\n",
       "      <td>1970</td>\n",
       "      <td>13200.0</td>\n",
       "      <td>80200.0</td>\n",
       "      <td>0.0</td>\n",
       "      <td>401300.0</td>\n",
       "      <td>0.0</td>\n",
       "      <td>5708500.0</td>\n",
       "      <td>4919200.0</td>\n",
       "    </tr>\n",
       "  </tbody>\n",
       "</table>\n",
       "</div>"
      ],
      "text/plain": [
       "        Entity Code  Year  Population - Education: Post Secondary  \\\n",
       "0  Afghanistan  AFG  1950                                   800.0   \n",
       "1  Afghanistan  AFG  1955                                  1600.0   \n",
       "2  Afghanistan  AFG  1960                                  3400.0   \n",
       "3  Afghanistan  AFG  1965                                  6900.0   \n",
       "4  Afghanistan  AFG  1970                                 13200.0   \n",
       "\n",
       "   Population - Education: Upper Secondary  \\\n",
       "0                                   5300.0   \n",
       "1                                  10000.0   \n",
       "2                                  17800.0   \n",
       "3                                  39300.0   \n",
       "4                                  80200.0   \n",
       "\n",
       "   Population - Education: Lower Secondary  Population - Education: Primary  \\\n",
       "0                                      0.0                         155000.0   \n",
       "1                                      0.0                         197300.0   \n",
       "2                                      0.0                         255100.0   \n",
       "3                                      0.0                         320500.0   \n",
       "4                                      0.0                         401300.0   \n",
       "\n",
       "   Population - Education: Incomplete Primary  \\\n",
       "0                                         0.0   \n",
       "1                                         0.0   \n",
       "2                                         0.0   \n",
       "3                                         0.0   \n",
       "4                                         0.0   \n",
       "\n",
       "   Population - Education: No Education  Population - Education: Under 15  \n",
       "0                             4411200.0                         3179900.0  \n",
       "1                             4633400.0                         3428100.0  \n",
       "2                             4925300.0                         3790800.0  \n",
       "3                             5302900.0                         4265500.0  \n",
       "4                             5708500.0                         4919200.0  "
      ]
     },
     "execution_count": 500,
     "metadata": {},
     "output_type": "execute_result"
    }
   ],
   "source": [
    "WorldPopulation_edu.head()"
   ]
  },
  {
   "cell_type": "code",
   "execution_count": 501,
   "metadata": {},
   "outputs": [
    {
     "data": {
      "text/html": [
       "<div>\n",
       "<style scoped>\n",
       "    .dataframe tbody tr th:only-of-type {\n",
       "        vertical-align: middle;\n",
       "    }\n",
       "\n",
       "    .dataframe tbody tr th {\n",
       "        vertical-align: top;\n",
       "    }\n",
       "\n",
       "    .dataframe thead th {\n",
       "        text-align: right;\n",
       "    }\n",
       "</style>\n",
       "<table border=\"1\" class=\"dataframe\">\n",
       "  <thead>\n",
       "    <tr style=\"text-align: right;\">\n",
       "      <th></th>\n",
       "      <th>Entity</th>\n",
       "      <th>Code</th>\n",
       "      <th>Year</th>\n",
       "      <th>Population growth rate - Sex: all - Age: all - Variant: estimates</th>\n",
       "    </tr>\n",
       "  </thead>\n",
       "  <tbody>\n",
       "    <tr>\n",
       "      <th>0</th>\n",
       "      <td>Afghanistan</td>\n",
       "      <td>AFG</td>\n",
       "      <td>1950</td>\n",
       "      <td>1.275</td>\n",
       "    </tr>\n",
       "    <tr>\n",
       "      <th>1</th>\n",
       "      <td>Afghanistan</td>\n",
       "      <td>AFG</td>\n",
       "      <td>1951</td>\n",
       "      <td>1.360</td>\n",
       "    </tr>\n",
       "    <tr>\n",
       "      <th>2</th>\n",
       "      <td>Afghanistan</td>\n",
       "      <td>AFG</td>\n",
       "      <td>1952</td>\n",
       "      <td>1.374</td>\n",
       "    </tr>\n",
       "    <tr>\n",
       "      <th>3</th>\n",
       "      <td>Afghanistan</td>\n",
       "      <td>AFG</td>\n",
       "      <td>1953</td>\n",
       "      <td>1.335</td>\n",
       "    </tr>\n",
       "    <tr>\n",
       "      <th>4</th>\n",
       "      <td>Afghanistan</td>\n",
       "      <td>AFG</td>\n",
       "      <td>1954</td>\n",
       "      <td>1.394</td>\n",
       "    </tr>\n",
       "  </tbody>\n",
       "</table>\n",
       "</div>"
      ],
      "text/plain": [
       "        Entity Code  Year  \\\n",
       "0  Afghanistan  AFG  1950   \n",
       "1  Afghanistan  AFG  1951   \n",
       "2  Afghanistan  AFG  1952   \n",
       "3  Afghanistan  AFG  1953   \n",
       "4  Afghanistan  AFG  1954   \n",
       "\n",
       "   Population growth rate - Sex: all - Age: all - Variant: estimates  \n",
       "0                                              1.275                  \n",
       "1                                              1.360                  \n",
       "2                                              1.374                  \n",
       "3                                              1.335                  \n",
       "4                                              1.394                  "
      ]
     },
     "execution_count": 501,
     "metadata": {},
     "output_type": "execute_result"
    }
   ],
   "source": [
    "WorldPopulation_Gro.head()"
   ]
  },
  {
   "cell_type": "code",
   "execution_count": 502,
   "metadata": {},
   "outputs": [
    {
     "name": "stdout",
     "output_type": "stream",
     "text": [
      "<class 'pandas.core.frame.DataFrame'>\n",
      "RangeIndex: 18722 entries, 0 to 18721\n",
      "Data columns (total 4 columns):\n",
      " #   Column                                                             Non-Null Count  Dtype  \n",
      "---  ------                                                             --------------  -----  \n",
      " 0   Entity                                                             18722 non-null  object \n",
      " 1   Code                                                               17612 non-null  object \n",
      " 2   Year                                                               18722 non-null  int64  \n",
      " 3   Population growth rate - Sex: all - Age: all - Variant: estimates  18722 non-null  float64\n",
      "dtypes: float64(1), int64(1), object(2)\n",
      "memory usage: 585.2+ KB\n"
     ]
    }
   ],
   "source": [
    "WorldPopulation_Gro.info()"
   ]
  },
  {
   "cell_type": "code",
   "execution_count": 503,
   "metadata": {},
   "outputs": [
    {
     "name": "stdout",
     "output_type": "stream",
     "text": [
      "<class 'pandas.core.frame.DataFrame'>\n",
      "RangeIndex: 3024 entries, 0 to 3023\n",
      "Data columns (total 10 columns):\n",
      " #   Column                                      Non-Null Count  Dtype  \n",
      "---  ------                                      --------------  -----  \n",
      " 0   Entity                                      3024 non-null   object \n",
      " 1   Code                                        3008 non-null   object \n",
      " 2   Year                                        3024 non-null   int64  \n",
      " 3   Population - Education: Post Secondary      3024 non-null   float64\n",
      " 4   Population - Education: Upper Secondary     3024 non-null   float64\n",
      " 5   Population - Education: Lower Secondary     3024 non-null   float64\n",
      " 6   Population - Education: Primary             3024 non-null   float64\n",
      " 7   Population - Education: Incomplete Primary  3024 non-null   float64\n",
      " 8   Population - Education: No Education        3024 non-null   float64\n",
      " 9   Population - Education: Under 15            3024 non-null   float64\n",
      "dtypes: float64(7), int64(1), object(2)\n",
      "memory usage: 236.4+ KB\n"
     ]
    }
   ],
   "source": [
    "WorldPopulation_edu.info()"
   ]
  },
  {
   "cell_type": "markdown",
   "metadata": {},
   "source": [
    "## Investigating why Code Column contains NaN values"
   ]
  },
  {
   "cell_type": "code",
   "execution_count": 504,
   "metadata": {},
   "outputs": [
    {
     "data": {
      "text/html": [
       "<div>\n",
       "<style scoped>\n",
       "    .dataframe tbody tr th:only-of-type {\n",
       "        vertical-align: middle;\n",
       "    }\n",
       "\n",
       "    .dataframe tbody tr th {\n",
       "        vertical-align: top;\n",
       "    }\n",
       "\n",
       "    .dataframe thead th {\n",
       "        text-align: right;\n",
       "    }\n",
       "</style>\n",
       "<table border=\"1\" class=\"dataframe\">\n",
       "  <thead>\n",
       "    <tr style=\"text-align: right;\">\n",
       "      <th></th>\n",
       "      <th>Entity</th>\n",
       "      <th>Code</th>\n",
       "      <th>Year</th>\n",
       "      <th>Population - Education: Post Secondary</th>\n",
       "      <th>Population - Education: Upper Secondary</th>\n",
       "      <th>Population - Education: Lower Secondary</th>\n",
       "      <th>Population - Education: Primary</th>\n",
       "      <th>Population - Education: Incomplete Primary</th>\n",
       "      <th>Population - Education: No Education</th>\n",
       "      <th>Population - Education: Under 15</th>\n",
       "    </tr>\n",
       "  </thead>\n",
       "  <tbody>\n",
       "    <tr>\n",
       "      <th>2695</th>\n",
       "      <td>The former Yugoslav Republic of Macedonia</td>\n",
       "      <td>NaN</td>\n",
       "      <td>1950</td>\n",
       "      <td>700.0</td>\n",
       "      <td>4900.0</td>\n",
       "      <td>11300.0</td>\n",
       "      <td>65600.0</td>\n",
       "      <td>337200.0</td>\n",
       "      <td>383500.0</td>\n",
       "      <td>451300.00</td>\n",
       "    </tr>\n",
       "    <tr>\n",
       "      <th>2696</th>\n",
       "      <td>The former Yugoslav Republic of Macedonia</td>\n",
       "      <td>NaN</td>\n",
       "      <td>1955</td>\n",
       "      <td>2800.0</td>\n",
       "      <td>15700.0</td>\n",
       "      <td>23600.0</td>\n",
       "      <td>99000.0</td>\n",
       "      <td>387600.0</td>\n",
       "      <td>348900.0</td>\n",
       "      <td>514900.03</td>\n",
       "    </tr>\n",
       "    <tr>\n",
       "      <th>2697</th>\n",
       "      <td>The former Yugoslav Republic of Macedonia</td>\n",
       "      <td>NaN</td>\n",
       "      <td>1960</td>\n",
       "      <td>8200.0</td>\n",
       "      <td>38200.0</td>\n",
       "      <td>38400.0</td>\n",
       "      <td>127800.0</td>\n",
       "      <td>404000.0</td>\n",
       "      <td>306500.0</td>\n",
       "      <td>565600.00</td>\n",
       "    </tr>\n",
       "    <tr>\n",
       "      <th>2698</th>\n",
       "      <td>The former Yugoslav Republic of Macedonia</td>\n",
       "      <td>NaN</td>\n",
       "      <td>1965</td>\n",
       "      <td>19800.0</td>\n",
       "      <td>81900.0</td>\n",
       "      <td>55600.0</td>\n",
       "      <td>159800.0</td>\n",
       "      <td>416000.0</td>\n",
       "      <td>269500.0</td>\n",
       "      <td>589900.00</td>\n",
       "    </tr>\n",
       "    <tr>\n",
       "      <th>2699</th>\n",
       "      <td>The former Yugoslav Republic of Macedonia</td>\n",
       "      <td>NaN</td>\n",
       "      <td>1970</td>\n",
       "      <td>40200.0</td>\n",
       "      <td>151900.0</td>\n",
       "      <td>80800.0</td>\n",
       "      <td>192300.0</td>\n",
       "      <td>427500.0</td>\n",
       "      <td>243100.0</td>\n",
       "      <td>585000.00</td>\n",
       "    </tr>\n",
       "  </tbody>\n",
       "</table>\n",
       "</div>"
      ],
      "text/plain": [
       "                                         Entity Code  Year  \\\n",
       "2695  The former Yugoslav Republic of Macedonia  NaN  1950   \n",
       "2696  The former Yugoslav Republic of Macedonia  NaN  1955   \n",
       "2697  The former Yugoslav Republic of Macedonia  NaN  1960   \n",
       "2698  The former Yugoslav Republic of Macedonia  NaN  1965   \n",
       "2699  The former Yugoslav Republic of Macedonia  NaN  1970   \n",
       "\n",
       "      Population - Education: Post Secondary  \\\n",
       "2695                                   700.0   \n",
       "2696                                  2800.0   \n",
       "2697                                  8200.0   \n",
       "2698                                 19800.0   \n",
       "2699                                 40200.0   \n",
       "\n",
       "      Population - Education: Upper Secondary  \\\n",
       "2695                                   4900.0   \n",
       "2696                                  15700.0   \n",
       "2697                                  38200.0   \n",
       "2698                                  81900.0   \n",
       "2699                                 151900.0   \n",
       "\n",
       "      Population - Education: Lower Secondary  \\\n",
       "2695                                  11300.0   \n",
       "2696                                  23600.0   \n",
       "2697                                  38400.0   \n",
       "2698                                  55600.0   \n",
       "2699                                  80800.0   \n",
       "\n",
       "      Population - Education: Primary  \\\n",
       "2695                          65600.0   \n",
       "2696                          99000.0   \n",
       "2697                         127800.0   \n",
       "2698                         159800.0   \n",
       "2699                         192300.0   \n",
       "\n",
       "      Population - Education: Incomplete Primary  \\\n",
       "2695                                    337200.0   \n",
       "2696                                    387600.0   \n",
       "2697                                    404000.0   \n",
       "2698                                    416000.0   \n",
       "2699                                    427500.0   \n",
       "\n",
       "      Population - Education: No Education  Population - Education: Under 15  \n",
       "2695                              383500.0                         451300.00  \n",
       "2696                              348900.0                         514900.03  \n",
       "2697                              306500.0                         565600.00  \n",
       "2698                              269500.0                         589900.00  \n",
       "2699                              243100.0                         585000.00  "
      ]
     },
     "execution_count": 504,
     "metadata": {},
     "output_type": "execute_result"
    }
   ],
   "source": [
    "WorldPopulation_edu[WorldPopulation_edu[\"Code\"].isna()].head()"
   ]
  },
  {
   "cell_type": "markdown",
   "metadata": {},
   "source": [
    "### The reason is The former Yugsolav Republic does not have a code in ISO 3166-1 alpha-3 standard "
   ]
  },
  {
   "cell_type": "markdown",
   "metadata": {},
   "source": [
    "## Trying to merge the two dataframes"
   ]
  },
  {
   "cell_type": "code",
   "execution_count": 505,
   "metadata": {},
   "outputs": [
    {
     "data": {
      "text/plain": [
       "Entity    202\n",
       "dtype: int64"
      ]
     },
     "execution_count": 505,
     "metadata": {},
     "output_type": "execute_result"
    }
   ],
   "source": [
    "WorldPopulation_edu[['Entity']].nunique()"
   ]
  },
  {
   "cell_type": "code",
   "execution_count": 506,
   "metadata": {},
   "outputs": [
    {
     "data": {
      "text/plain": [
       "Entity    253\n",
       "dtype: int64"
      ]
     },
     "execution_count": 506,
     "metadata": {},
     "output_type": "execute_result"
    }
   ],
   "source": [
    "WorldPopulation_Gro[['Entity']].nunique()"
   ]
  },
  {
   "cell_type": "markdown",
   "metadata": {},
   "source": [
    "It is clear that the two dataframes have different number of countries, even though they have the column name \"Entity\""
   ]
  },
  {
   "cell_type": "code",
   "execution_count": 507,
   "metadata": {},
   "outputs": [],
   "source": [
    "countries_in_df1_not_in_df2 = WorldPopulation_Gro[~WorldPopulation_Gro['Entity'].isin(WorldPopulation_edu['Entity'])]\n"
   ]
  },
  {
   "cell_type": "code",
   "execution_count": 508,
   "metadata": {},
   "outputs": [],
   "source": [
    "countries_in_df2_not_in_df1 = WorldPopulation_edu[~WorldPopulation_edu['Entity'].isin(WorldPopulation_Gro['Entity'])]\n"
   ]
  },
  {
   "cell_type": "code",
   "execution_count": 509,
   "metadata": {},
   "outputs": [
    {
     "data": {
      "text/plain": [
       "array(['Channel Islands', 'The former Yugoslav Republic of Macedonia'],\n",
       "      dtype=object)"
      ]
     },
     "execution_count": 509,
     "metadata": {},
     "output_type": "execute_result"
    }
   ],
   "source": [
    "countries_in_df2_not_in_df1['Entity'].unique()"
   ]
  },
  {
   "cell_type": "code",
   "execution_count": 510,
   "metadata": {},
   "outputs": [
    {
     "data": {
      "text/plain": [
       "53"
      ]
     },
     "execution_count": 510,
     "metadata": {},
     "output_type": "execute_result"
    }
   ],
   "source": [
    "countries_in_df1_not_in_df2['Entity'].nunique()"
   ]
  },
  {
   "cell_type": "code",
   "execution_count": 511,
   "metadata": {},
   "outputs": [
    {
     "data": {
      "text/plain": [
       "array(['Africa (UN)', 'American Samoa', 'Andorra', 'Anguilla',\n",
       "       'Asia (UN)', 'Bermuda', 'Bonaire Sint Eustatius and Saba',\n",
       "       'British Virgin Islands', 'Cayman Islands', 'Cook Islands',\n",
       "       'Dominica', 'Europe (UN)', 'Falkland Islands', 'Faroe Islands',\n",
       "       'Gibraltar', 'Greenland', 'Guernsey', 'High-income countries',\n",
       "       'Isle of Man', 'Jersey', 'Kosovo',\n",
       "       'Latin America and the Caribbean (UN)',\n",
       "       'Least developed countries', 'Less developed regions',\n",
       "       'Less developed regions, excluding China',\n",
       "       'Less developed regions, excluding least developed countries',\n",
       "       'Liechtenstein', 'Low-income countries',\n",
       "       'Lower-middle-income countries', 'Marshall Islands', 'Monaco',\n",
       "       'Montserrat', 'More developed regions', 'Nauru', 'Niue',\n",
       "       'North Macedonia', 'Northern America (UN)',\n",
       "       'Northern Mariana Islands', 'Oceania (UN)', 'Palau',\n",
       "       'Saint Barthelemy', 'Saint Helena', 'Saint Kitts and Nevis',\n",
       "       'Saint Martin (French part)', 'Saint Pierre and Miquelon',\n",
       "       'San Marino', 'Sint Maarten (Dutch part)', 'Tokelau',\n",
       "       'Turks and Caicos Islands', 'Tuvalu',\n",
       "       'Upper-middle-income countries', 'Vatican', 'Wallis and Futuna'],\n",
       "      dtype=object)"
      ]
     },
     "execution_count": 511,
     "metadata": {},
     "output_type": "execute_result"
    }
   ],
   "source": [
    "countries_in_df1_not_in_df2['Entity'].unique()"
   ]
  },
  {
   "cell_type": "code",
   "execution_count": 512,
   "metadata": {},
   "outputs": [
    {
     "name": "stdout",
     "output_type": "stream",
     "text": [
      "(3922, 4)\n",
      "(18722, 4)\n",
      "(19, 10)\n",
      "(3024, 10)\n"
     ]
    }
   ],
   "source": [
    "print(countries_in_df1_not_in_df2.shape)\n",
    "print(WorldPopulation_Gro.shape)\n",
    "print(countries_in_df2_not_in_df1.shape)\n",
    "print(WorldPopulation_edu.shape)"
   ]
  },
  {
   "cell_type": "markdown",
   "metadata": {},
   "source": [
    "Theer are 2 countries in WorldPopulation_edu that are not in WorldPopulation_Gro dataset.  \n",
    "\n",
    "On the other hand, WorldPopulation_Gro dataset has 53 countries that are not in WorldPopulation_edu dataset.  \n",
    "\n",
    "To make the datasets consistent, we will remove the mismatched countries from both datasets. This will cause the loss of 3971 total rows of data. Hence, we will be left with 14751 rows total."
   ]
  },
  {
   "cell_type": "code",
   "execution_count": 513,
   "metadata": {},
   "outputs": [
    {
     "data": {
      "text/html": [
       "<div>\n",
       "<style scoped>\n",
       "    .dataframe tbody tr th:only-of-type {\n",
       "        vertical-align: middle;\n",
       "    }\n",
       "\n",
       "    .dataframe tbody tr th {\n",
       "        vertical-align: top;\n",
       "    }\n",
       "\n",
       "    .dataframe thead th {\n",
       "        text-align: right;\n",
       "    }\n",
       "</style>\n",
       "<table border=\"1\" class=\"dataframe\">\n",
       "  <thead>\n",
       "    <tr style=\"text-align: right;\">\n",
       "      <th></th>\n",
       "      <th>Entity</th>\n",
       "      <th>Code</th>\n",
       "      <th>Year</th>\n",
       "      <th>Population - Education: Post Secondary</th>\n",
       "      <th>Population - Education: Upper Secondary</th>\n",
       "      <th>Population - Education: Lower Secondary</th>\n",
       "      <th>Population - Education: Primary</th>\n",
       "      <th>Population - Education: Incomplete Primary</th>\n",
       "      <th>Population - Education: No Education</th>\n",
       "      <th>Population - Education: Under 15</th>\n",
       "    </tr>\n",
       "  </thead>\n",
       "  <tbody>\n",
       "    <tr>\n",
       "      <th>0</th>\n",
       "      <td>Afghanistan</td>\n",
       "      <td>AFG</td>\n",
       "      <td>1950</td>\n",
       "      <td>800.0</td>\n",
       "      <td>5300.0</td>\n",
       "      <td>0.0</td>\n",
       "      <td>155000.0</td>\n",
       "      <td>0.0</td>\n",
       "      <td>4411200.0</td>\n",
       "      <td>3179900.0</td>\n",
       "    </tr>\n",
       "    <tr>\n",
       "      <th>1</th>\n",
       "      <td>Afghanistan</td>\n",
       "      <td>AFG</td>\n",
       "      <td>1955</td>\n",
       "      <td>1600.0</td>\n",
       "      <td>10000.0</td>\n",
       "      <td>0.0</td>\n",
       "      <td>197300.0</td>\n",
       "      <td>0.0</td>\n",
       "      <td>4633400.0</td>\n",
       "      <td>3428100.0</td>\n",
       "    </tr>\n",
       "    <tr>\n",
       "      <th>2</th>\n",
       "      <td>Afghanistan</td>\n",
       "      <td>AFG</td>\n",
       "      <td>1960</td>\n",
       "      <td>3400.0</td>\n",
       "      <td>17800.0</td>\n",
       "      <td>0.0</td>\n",
       "      <td>255100.0</td>\n",
       "      <td>0.0</td>\n",
       "      <td>4925300.0</td>\n",
       "      <td>3790800.0</td>\n",
       "    </tr>\n",
       "    <tr>\n",
       "      <th>3</th>\n",
       "      <td>Afghanistan</td>\n",
       "      <td>AFG</td>\n",
       "      <td>1965</td>\n",
       "      <td>6900.0</td>\n",
       "      <td>39300.0</td>\n",
       "      <td>0.0</td>\n",
       "      <td>320500.0</td>\n",
       "      <td>0.0</td>\n",
       "      <td>5302900.0</td>\n",
       "      <td>4265500.0</td>\n",
       "    </tr>\n",
       "    <tr>\n",
       "      <th>4</th>\n",
       "      <td>Afghanistan</td>\n",
       "      <td>AFG</td>\n",
       "      <td>1970</td>\n",
       "      <td>13200.0</td>\n",
       "      <td>80200.0</td>\n",
       "      <td>0.0</td>\n",
       "      <td>401300.0</td>\n",
       "      <td>0.0</td>\n",
       "      <td>5708500.0</td>\n",
       "      <td>4919200.0</td>\n",
       "    </tr>\n",
       "    <tr>\n",
       "      <th>...</th>\n",
       "      <td>...</td>\n",
       "      <td>...</td>\n",
       "      <td>...</td>\n",
       "      <td>...</td>\n",
       "      <td>...</td>\n",
       "      <td>...</td>\n",
       "      <td>...</td>\n",
       "      <td>...</td>\n",
       "      <td>...</td>\n",
       "      <td>...</td>\n",
       "    </tr>\n",
       "    <tr>\n",
       "      <th>3019</th>\n",
       "      <td>Zimbabwe</td>\n",
       "      <td>ZWE</td>\n",
       "      <td>2005</td>\n",
       "      <td>500400.0</td>\n",
       "      <td>2197000.0</td>\n",
       "      <td>1965200.0</td>\n",
       "      <td>1349500.0</td>\n",
       "      <td>772000.0</td>\n",
       "      <td>759400.0</td>\n",
       "      <td>5413000.0</td>\n",
       "    </tr>\n",
       "    <tr>\n",
       "      <th>3020</th>\n",
       "      <td>Zimbabwe</td>\n",
       "      <td>ZWE</td>\n",
       "      <td>2010</td>\n",
       "      <td>519700.0</td>\n",
       "      <td>2653200.0</td>\n",
       "      <td>2006000.0</td>\n",
       "      <td>1418200.0</td>\n",
       "      <td>799300.0</td>\n",
       "      <td>773400.0</td>\n",
       "      <td>5849100.0</td>\n",
       "    </tr>\n",
       "    <tr>\n",
       "      <th>3021</th>\n",
       "      <td>Zimbabwe</td>\n",
       "      <td>ZWE</td>\n",
       "      <td>2015</td>\n",
       "      <td>731400.0</td>\n",
       "      <td>3795600.0</td>\n",
       "      <td>1992800.0</td>\n",
       "      <td>1373200.0</td>\n",
       "      <td>700300.0</td>\n",
       "      <td>640300.0</td>\n",
       "      <td>6543000.0</td>\n",
       "    </tr>\n",
       "    <tr>\n",
       "      <th>3022</th>\n",
       "      <td>Zimbabwe</td>\n",
       "      <td>ZWE</td>\n",
       "      <td>2020</td>\n",
       "      <td>980200.0</td>\n",
       "      <td>5077400.0</td>\n",
       "      <td>2052100.1</td>\n",
       "      <td>1315900.0</td>\n",
       "      <td>580900.0</td>\n",
       "      <td>518300.0</td>\n",
       "      <td>7037600.0</td>\n",
       "    </tr>\n",
       "    <tr>\n",
       "      <th>3023</th>\n",
       "      <td>Zimbabwe</td>\n",
       "      <td>ZWE</td>\n",
       "      <td>2025</td>\n",
       "      <td>1263800.0</td>\n",
       "      <td>6570800.0</td>\n",
       "      <td>2169700.0</td>\n",
       "      <td>1217100.0</td>\n",
       "      <td>431200.0</td>\n",
       "      <td>375000.0</td>\n",
       "      <td>7120200.0</td>\n",
       "    </tr>\n",
       "  </tbody>\n",
       "</table>\n",
       "<p>3024 rows × 10 columns</p>\n",
       "</div>"
      ],
      "text/plain": [
       "           Entity Code  Year  Population - Education: Post Secondary  \\\n",
       "0     Afghanistan  AFG  1950                                   800.0   \n",
       "1     Afghanistan  AFG  1955                                  1600.0   \n",
       "2     Afghanistan  AFG  1960                                  3400.0   \n",
       "3     Afghanistan  AFG  1965                                  6900.0   \n",
       "4     Afghanistan  AFG  1970                                 13200.0   \n",
       "...           ...  ...   ...                                     ...   \n",
       "3019     Zimbabwe  ZWE  2005                                500400.0   \n",
       "3020     Zimbabwe  ZWE  2010                                519700.0   \n",
       "3021     Zimbabwe  ZWE  2015                                731400.0   \n",
       "3022     Zimbabwe  ZWE  2020                                980200.0   \n",
       "3023     Zimbabwe  ZWE  2025                               1263800.0   \n",
       "\n",
       "      Population - Education: Upper Secondary  \\\n",
       "0                                      5300.0   \n",
       "1                                     10000.0   \n",
       "2                                     17800.0   \n",
       "3                                     39300.0   \n",
       "4                                     80200.0   \n",
       "...                                       ...   \n",
       "3019                                2197000.0   \n",
       "3020                                2653200.0   \n",
       "3021                                3795600.0   \n",
       "3022                                5077400.0   \n",
       "3023                                6570800.0   \n",
       "\n",
       "      Population - Education: Lower Secondary  \\\n",
       "0                                         0.0   \n",
       "1                                         0.0   \n",
       "2                                         0.0   \n",
       "3                                         0.0   \n",
       "4                                         0.0   \n",
       "...                                       ...   \n",
       "3019                                1965200.0   \n",
       "3020                                2006000.0   \n",
       "3021                                1992800.0   \n",
       "3022                                2052100.1   \n",
       "3023                                2169700.0   \n",
       "\n",
       "      Population - Education: Primary  \\\n",
       "0                            155000.0   \n",
       "1                            197300.0   \n",
       "2                            255100.0   \n",
       "3                            320500.0   \n",
       "4                            401300.0   \n",
       "...                               ...   \n",
       "3019                        1349500.0   \n",
       "3020                        1418200.0   \n",
       "3021                        1373200.0   \n",
       "3022                        1315900.0   \n",
       "3023                        1217100.0   \n",
       "\n",
       "      Population - Education: Incomplete Primary  \\\n",
       "0                                            0.0   \n",
       "1                                            0.0   \n",
       "2                                            0.0   \n",
       "3                                            0.0   \n",
       "4                                            0.0   \n",
       "...                                          ...   \n",
       "3019                                    772000.0   \n",
       "3020                                    799300.0   \n",
       "3021                                    700300.0   \n",
       "3022                                    580900.0   \n",
       "3023                                    431200.0   \n",
       "\n",
       "      Population - Education: No Education  Population - Education: Under 15  \n",
       "0                                4411200.0                         3179900.0  \n",
       "1                                4633400.0                         3428100.0  \n",
       "2                                4925300.0                         3790800.0  \n",
       "3                                5302900.0                         4265500.0  \n",
       "4                                5708500.0                         4919200.0  \n",
       "...                                    ...                               ...  \n",
       "3019                              759400.0                         5413000.0  \n",
       "3020                              773400.0                         5849100.0  \n",
       "3021                              640300.0                         6543000.0  \n",
       "3022                              518300.0                         7037600.0  \n",
       "3023                              375000.0                         7120200.0  \n",
       "\n",
       "[3024 rows x 10 columns]"
      ]
     },
     "execution_count": 513,
     "metadata": {},
     "output_type": "execute_result"
    }
   ],
   "source": [
    "WorldPopulation_edu"
   ]
  },
  {
   "cell_type": "code",
   "execution_count": 514,
   "metadata": {},
   "outputs": [],
   "source": [
    "WorldPopulation_Gro.drop(countries_in_df1_not_in_df2['Entity'].index, inplace=True)"
   ]
  },
  {
   "cell_type": "code",
   "execution_count": 515,
   "metadata": {},
   "outputs": [
    {
     "data": {
      "text/plain": [
       "(14800, 4)"
      ]
     },
     "execution_count": 515,
     "metadata": {},
     "output_type": "execute_result"
    }
   ],
   "source": [
    "WorldPopulation_Gro.shape"
   ]
  },
  {
   "cell_type": "code",
   "execution_count": 516,
   "metadata": {},
   "outputs": [],
   "source": [
    "WorldPopulation_edu.drop(countries_in_df2_not_in_df1['Entity'].index, inplace=True)"
   ]
  },
  {
   "cell_type": "code",
   "execution_count": 517,
   "metadata": {},
   "outputs": [
    {
     "data": {
      "text/plain": [
       "(3005, 10)"
      ]
     },
     "execution_count": 517,
     "metadata": {},
     "output_type": "execute_result"
    }
   ],
   "source": [
    "WorldPopulation_edu.shape"
   ]
  },
  {
   "cell_type": "markdown",
   "metadata": {},
   "source": [
    "Our next major problem is the fact that the education dataset has date data points only in 5 year increaments.\n",
    "We can do either of two things\n",
    "1) We can delete the data from World Grwoth that is not in 5 year increament\n",
    "2) We can interpolate the missing data points  \n",
    "\n",
    "We will be using the second option as the first option will cause  loss of data.\n"
   ]
  },
  {
   "cell_type": "code",
   "execution_count": 518,
   "metadata": {},
   "outputs": [
    {
     "name": "stdout",
     "output_type": "stream",
     "text": [
      "<class 'pandas.core.frame.DataFrame'>\n",
      "Index: 3005 entries, 0 to 3023\n",
      "Data columns (total 10 columns):\n",
      " #   Column                                      Non-Null Count  Dtype  \n",
      "---  ------                                      --------------  -----  \n",
      " 0   Entity                                      3005 non-null   object \n",
      " 1   Code                                        3005 non-null   object \n",
      " 2   Year                                        3005 non-null   int64  \n",
      " 3   Population - Education: Post Secondary      3005 non-null   float64\n",
      " 4   Population - Education: Upper Secondary     3005 non-null   float64\n",
      " 5   Population - Education: Lower Secondary     3005 non-null   float64\n",
      " 6   Population - Education: Primary             3005 non-null   float64\n",
      " 7   Population - Education: Incomplete Primary  3005 non-null   float64\n",
      " 8   Population - Education: No Education        3005 non-null   float64\n",
      " 9   Population - Education: Under 15            3005 non-null   float64\n",
      "dtypes: float64(7), int64(1), object(2)\n",
      "memory usage: 258.2+ KB\n"
     ]
    }
   ],
   "source": [
    "# we would have to change Year column to string then concatenate it with '01-01' to make it a date column because it is an integer\n",
    "WorldPopulation_edu.info()"
   ]
  },
  {
   "cell_type": "code",
   "execution_count": 519,
   "metadata": {},
   "outputs": [],
   "source": [
    "WorldPopulation_edu['date'] = WorldPopulation_edu['Year'].astype(str) + '-01-01'"
   ]
  },
  {
   "cell_type": "code",
   "execution_count": 520,
   "metadata": {},
   "outputs": [],
   "source": [
    "WorldPopulation_edu['date']= pd.to_datetime(WorldPopulation_edu['date'])"
   ]
  },
  {
   "cell_type": "code",
   "execution_count": 521,
   "metadata": {},
   "outputs": [
    {
     "name": "stdout",
     "output_type": "stream",
     "text": [
      "<class 'pandas.core.frame.DataFrame'>\n",
      "Index: 3005 entries, 0 to 3023\n",
      "Data columns (total 11 columns):\n",
      " #   Column                                      Non-Null Count  Dtype         \n",
      "---  ------                                      --------------  -----         \n",
      " 0   Entity                                      3005 non-null   object        \n",
      " 1   Code                                        3005 non-null   object        \n",
      " 2   Year                                        3005 non-null   int64         \n",
      " 3   Population - Education: Post Secondary      3005 non-null   float64       \n",
      " 4   Population - Education: Upper Secondary     3005 non-null   float64       \n",
      " 5   Population - Education: Lower Secondary     3005 non-null   float64       \n",
      " 6   Population - Education: Primary             3005 non-null   float64       \n",
      " 7   Population - Education: Incomplete Primary  3005 non-null   float64       \n",
      " 8   Population - Education: No Education        3005 non-null   float64       \n",
      " 9   Population - Education: Under 15            3005 non-null   float64       \n",
      " 10  date                                        3005 non-null   datetime64[ns]\n",
      "dtypes: datetime64[ns](1), float64(7), int64(1), object(2)\n",
      "memory usage: 281.7+ KB\n"
     ]
    }
   ],
   "source": [
    "WorldPopulation_edu.info()"
   ]
  },
  {
   "cell_type": "code",
   "execution_count": 522,
   "metadata": {},
   "outputs": [],
   "source": [
    "WorldPopulation_edu.set_index('date', inplace=True)"
   ]
  },
  {
   "cell_type": "code",
   "execution_count": 523,
   "metadata": {},
   "outputs": [],
   "source": [
    "df_resampled = WorldPopulation_edu.groupby('Entity').resample('YE').ffill()"
   ]
  },
  {
   "cell_type": "code",
   "execution_count": 524,
   "metadata": {},
   "outputs": [],
   "source": [
    "df_resampled.reset_index(level=0, drop=True, inplace=True)"
   ]
  },
  {
   "cell_type": "code",
   "execution_count": 525,
   "metadata": {},
   "outputs": [],
   "source": [
    "df_resampled.reset_index(inplace=True)"
   ]
  },
  {
   "cell_type": "code",
   "execution_count": 526,
   "metadata": {},
   "outputs": [],
   "source": [
    "df_resampled['date'] = df_resampled['date'].dt.year"
   ]
  },
  {
   "cell_type": "code",
   "execution_count": 527,
   "metadata": {},
   "outputs": [],
   "source": [
    "df_resampled['date']=df_resampled['date'].astype(int)"
   ]
  },
  {
   "cell_type": "code",
   "execution_count": 528,
   "metadata": {},
   "outputs": [],
   "source": [
    "df_resampled.loc[df_resampled['date'] % 5 != 0, 'Population - Education: Post Secondary':] =np.nan\n",
    "# every year that is not a multiple of 5 will be replaced with NAN, this will allow us to replace the NANs with interpolated values."
   ]
  },
  {
   "cell_type": "code",
   "execution_count": 529,
   "metadata": {},
   "outputs": [
    {
     "data": {
      "text/html": [
       "<div>\n",
       "<style scoped>\n",
       "    .dataframe tbody tr th:only-of-type {\n",
       "        vertical-align: middle;\n",
       "    }\n",
       "\n",
       "    .dataframe tbody tr th {\n",
       "        vertical-align: top;\n",
       "    }\n",
       "\n",
       "    .dataframe thead th {\n",
       "        text-align: right;\n",
       "    }\n",
       "</style>\n",
       "<table border=\"1\" class=\"dataframe\">\n",
       "  <thead>\n",
       "    <tr style=\"text-align: right;\">\n",
       "      <th></th>\n",
       "      <th>date</th>\n",
       "      <th>Entity</th>\n",
       "      <th>Code</th>\n",
       "      <th>Year</th>\n",
       "      <th>Population - Education: Post Secondary</th>\n",
       "      <th>Population - Education: Upper Secondary</th>\n",
       "      <th>Population - Education: Lower Secondary</th>\n",
       "      <th>Population - Education: Primary</th>\n",
       "      <th>Population - Education: Incomplete Primary</th>\n",
       "      <th>Population - Education: No Education</th>\n",
       "      <th>Population - Education: Under 15</th>\n",
       "    </tr>\n",
       "  </thead>\n",
       "  <tbody>\n",
       "    <tr>\n",
       "      <th>0</th>\n",
       "      <td>1950</td>\n",
       "      <td>Afghanistan</td>\n",
       "      <td>AFG</td>\n",
       "      <td>1950</td>\n",
       "      <td>800.0</td>\n",
       "      <td>5300.0</td>\n",
       "      <td>0.0</td>\n",
       "      <td>155000.0</td>\n",
       "      <td>0.0</td>\n",
       "      <td>4411200.0</td>\n",
       "      <td>3179900.0</td>\n",
       "    </tr>\n",
       "    <tr>\n",
       "      <th>1</th>\n",
       "      <td>1951</td>\n",
       "      <td>Afghanistan</td>\n",
       "      <td>AFG</td>\n",
       "      <td>1950</td>\n",
       "      <td>NaN</td>\n",
       "      <td>NaN</td>\n",
       "      <td>NaN</td>\n",
       "      <td>NaN</td>\n",
       "      <td>NaN</td>\n",
       "      <td>NaN</td>\n",
       "      <td>NaN</td>\n",
       "    </tr>\n",
       "    <tr>\n",
       "      <th>2</th>\n",
       "      <td>1952</td>\n",
       "      <td>Afghanistan</td>\n",
       "      <td>AFG</td>\n",
       "      <td>1950</td>\n",
       "      <td>NaN</td>\n",
       "      <td>NaN</td>\n",
       "      <td>NaN</td>\n",
       "      <td>NaN</td>\n",
       "      <td>NaN</td>\n",
       "      <td>NaN</td>\n",
       "      <td>NaN</td>\n",
       "    </tr>\n",
       "    <tr>\n",
       "      <th>3</th>\n",
       "      <td>1953</td>\n",
       "      <td>Afghanistan</td>\n",
       "      <td>AFG</td>\n",
       "      <td>1950</td>\n",
       "      <td>NaN</td>\n",
       "      <td>NaN</td>\n",
       "      <td>NaN</td>\n",
       "      <td>NaN</td>\n",
       "      <td>NaN</td>\n",
       "      <td>NaN</td>\n",
       "      <td>NaN</td>\n",
       "    </tr>\n",
       "    <tr>\n",
       "      <th>4</th>\n",
       "      <td>1954</td>\n",
       "      <td>Afghanistan</td>\n",
       "      <td>AFG</td>\n",
       "      <td>1950</td>\n",
       "      <td>NaN</td>\n",
       "      <td>NaN</td>\n",
       "      <td>NaN</td>\n",
       "      <td>NaN</td>\n",
       "      <td>NaN</td>\n",
       "      <td>NaN</td>\n",
       "      <td>NaN</td>\n",
       "    </tr>\n",
       "  </tbody>\n",
       "</table>\n",
       "</div>"
      ],
      "text/plain": [
       "   date       Entity Code  Year  Population - Education: Post Secondary  \\\n",
       "0  1950  Afghanistan  AFG  1950                                   800.0   \n",
       "1  1951  Afghanistan  AFG  1950                                     NaN   \n",
       "2  1952  Afghanistan  AFG  1950                                     NaN   \n",
       "3  1953  Afghanistan  AFG  1950                                     NaN   \n",
       "4  1954  Afghanistan  AFG  1950                                     NaN   \n",
       "\n",
       "   Population - Education: Upper Secondary  \\\n",
       "0                                   5300.0   \n",
       "1                                      NaN   \n",
       "2                                      NaN   \n",
       "3                                      NaN   \n",
       "4                                      NaN   \n",
       "\n",
       "   Population - Education: Lower Secondary  Population - Education: Primary  \\\n",
       "0                                      0.0                         155000.0   \n",
       "1                                      NaN                              NaN   \n",
       "2                                      NaN                              NaN   \n",
       "3                                      NaN                              NaN   \n",
       "4                                      NaN                              NaN   \n",
       "\n",
       "   Population - Education: Incomplete Primary  \\\n",
       "0                                         0.0   \n",
       "1                                         NaN   \n",
       "2                                         NaN   \n",
       "3                                         NaN   \n",
       "4                                         NaN   \n",
       "\n",
       "   Population - Education: No Education  Population - Education: Under 15  \n",
       "0                             4411200.0                         3179900.0  \n",
       "1                                   NaN                               NaN  \n",
       "2                                   NaN                               NaN  \n",
       "3                                   NaN                               NaN  \n",
       "4                                   NaN                               NaN  "
      ]
     },
     "execution_count": 529,
     "metadata": {},
     "output_type": "execute_result"
    }
   ],
   "source": [
    "df_resampled.head()"
   ]
  },
  {
   "cell_type": "markdown",
   "metadata": {},
   "source": [
    "Finishing interpolation"
   ]
  },
  {
   "cell_type": "code",
   "execution_count": 530,
   "metadata": {},
   "outputs": [
    {
     "name": "stderr",
     "output_type": "stream",
     "text": [
      "C:\\Users\\yadal\\AppData\\Local\\Temp\\ipykernel_40948\\139923197.py:1: FutureWarning: DataFrame.interpolate with object dtype is deprecated and will raise in a future version. Call obj.infer_objects(copy=False) before interpolating instead.\n",
      "  df_resampled.interpolate(method='linear', inplace=True)\n"
     ]
    }
   ],
   "source": [
    "df_resampled.interpolate(method='linear', inplace=True)"
   ]
  },
  {
   "cell_type": "code",
   "execution_count": 531,
   "metadata": {},
   "outputs": [
    {
     "data": {
      "text/html": [
       "<div>\n",
       "<style scoped>\n",
       "    .dataframe tbody tr th:only-of-type {\n",
       "        vertical-align: middle;\n",
       "    }\n",
       "\n",
       "    .dataframe tbody tr th {\n",
       "        vertical-align: top;\n",
       "    }\n",
       "\n",
       "    .dataframe thead th {\n",
       "        text-align: right;\n",
       "    }\n",
       "</style>\n",
       "<table border=\"1\" class=\"dataframe\">\n",
       "  <thead>\n",
       "    <tr style=\"text-align: right;\">\n",
       "      <th></th>\n",
       "      <th>date</th>\n",
       "      <th>Entity</th>\n",
       "      <th>Code</th>\n",
       "      <th>Year</th>\n",
       "      <th>Population - Education: Post Secondary</th>\n",
       "      <th>Population - Education: Upper Secondary</th>\n",
       "      <th>Population - Education: Lower Secondary</th>\n",
       "      <th>Population - Education: Primary</th>\n",
       "      <th>Population - Education: Incomplete Primary</th>\n",
       "      <th>Population - Education: No Education</th>\n",
       "      <th>Population - Education: Under 15</th>\n",
       "    </tr>\n",
       "  </thead>\n",
       "  <tbody>\n",
       "    <tr>\n",
       "      <th>30</th>\n",
       "      <td>1980</td>\n",
       "      <td>Afghanistan</td>\n",
       "      <td>AFG</td>\n",
       "      <td>1980</td>\n",
       "      <td>35200.0</td>\n",
       "      <td>193600.0</td>\n",
       "      <td>0.0</td>\n",
       "      <td>602000.0</td>\n",
       "      <td>0.0</td>\n",
       "      <td>6309900.000</td>\n",
       "      <td>6086900.0</td>\n",
       "    </tr>\n",
       "    <tr>\n",
       "      <th>31</th>\n",
       "      <td>1981</td>\n",
       "      <td>Afghanistan</td>\n",
       "      <td>AFG</td>\n",
       "      <td>1980</td>\n",
       "      <td>37640.0</td>\n",
       "      <td>198840.0</td>\n",
       "      <td>0.0</td>\n",
       "      <td>595300.0</td>\n",
       "      <td>0.0</td>\n",
       "      <td>6106700.000</td>\n",
       "      <td>5983240.0</td>\n",
       "    </tr>\n",
       "    <tr>\n",
       "      <th>32</th>\n",
       "      <td>1982</td>\n",
       "      <td>Afghanistan</td>\n",
       "      <td>AFG</td>\n",
       "      <td>1980</td>\n",
       "      <td>40080.0</td>\n",
       "      <td>204080.0</td>\n",
       "      <td>0.0</td>\n",
       "      <td>588600.0</td>\n",
       "      <td>0.0</td>\n",
       "      <td>5903500.000</td>\n",
       "      <td>5879580.0</td>\n",
       "    </tr>\n",
       "    <tr>\n",
       "      <th>33</th>\n",
       "      <td>1983</td>\n",
       "      <td>Afghanistan</td>\n",
       "      <td>AFG</td>\n",
       "      <td>1980</td>\n",
       "      <td>42520.0</td>\n",
       "      <td>209320.0</td>\n",
       "      <td>0.0</td>\n",
       "      <td>581900.0</td>\n",
       "      <td>0.0</td>\n",
       "      <td>5700300.000</td>\n",
       "      <td>5775920.0</td>\n",
       "    </tr>\n",
       "    <tr>\n",
       "      <th>34</th>\n",
       "      <td>1984</td>\n",
       "      <td>Afghanistan</td>\n",
       "      <td>AFG</td>\n",
       "      <td>1980</td>\n",
       "      <td>44960.0</td>\n",
       "      <td>214560.0</td>\n",
       "      <td>0.0</td>\n",
       "      <td>575200.0</td>\n",
       "      <td>0.0</td>\n",
       "      <td>5497100.000</td>\n",
       "      <td>5672260.0</td>\n",
       "    </tr>\n",
       "    <tr>\n",
       "      <th>...</th>\n",
       "      <td>...</td>\n",
       "      <td>...</td>\n",
       "      <td>...</td>\n",
       "      <td>...</td>\n",
       "      <td>...</td>\n",
       "      <td>...</td>\n",
       "      <td>...</td>\n",
       "      <td>...</td>\n",
       "      <td>...</td>\n",
       "      <td>...</td>\n",
       "      <td>...</td>\n",
       "    </tr>\n",
       "    <tr>\n",
       "      <th>14185</th>\n",
       "      <td>1986</td>\n",
       "      <td>Zimbabwe</td>\n",
       "      <td>ZWE</td>\n",
       "      <td>1985</td>\n",
       "      <td>205800.0</td>\n",
       "      <td>687940.0</td>\n",
       "      <td>1072180.0</td>\n",
       "      <td>956760.0</td>\n",
       "      <td>848380.0</td>\n",
       "      <td>1051619.988</td>\n",
       "      <td>4279180.0</td>\n",
       "    </tr>\n",
       "    <tr>\n",
       "      <th>14186</th>\n",
       "      <td>1987</td>\n",
       "      <td>Zimbabwe</td>\n",
       "      <td>ZWE</td>\n",
       "      <td>1985</td>\n",
       "      <td>226300.0</td>\n",
       "      <td>765680.0</td>\n",
       "      <td>1132460.0</td>\n",
       "      <td>998920.0</td>\n",
       "      <td>859860.0</td>\n",
       "      <td>1046639.976</td>\n",
       "      <td>4388960.0</td>\n",
       "    </tr>\n",
       "    <tr>\n",
       "      <th>14187</th>\n",
       "      <td>1988</td>\n",
       "      <td>Zimbabwe</td>\n",
       "      <td>ZWE</td>\n",
       "      <td>1985</td>\n",
       "      <td>246800.0</td>\n",
       "      <td>843420.0</td>\n",
       "      <td>1192740.0</td>\n",
       "      <td>1041080.0</td>\n",
       "      <td>871340.0</td>\n",
       "      <td>1041659.964</td>\n",
       "      <td>4498740.0</td>\n",
       "    </tr>\n",
       "    <tr>\n",
       "      <th>14188</th>\n",
       "      <td>1989</td>\n",
       "      <td>Zimbabwe</td>\n",
       "      <td>ZWE</td>\n",
       "      <td>1985</td>\n",
       "      <td>267300.0</td>\n",
       "      <td>921160.0</td>\n",
       "      <td>1253020.0</td>\n",
       "      <td>1083240.0</td>\n",
       "      <td>882820.0</td>\n",
       "      <td>1036679.952</td>\n",
       "      <td>4608520.0</td>\n",
       "    </tr>\n",
       "    <tr>\n",
       "      <th>14189</th>\n",
       "      <td>1990</td>\n",
       "      <td>Zimbabwe</td>\n",
       "      <td>ZWE</td>\n",
       "      <td>1990</td>\n",
       "      <td>287800.0</td>\n",
       "      <td>998900.0</td>\n",
       "      <td>1313300.0</td>\n",
       "      <td>1125400.0</td>\n",
       "      <td>894300.0</td>\n",
       "      <td>1031699.940</td>\n",
       "      <td>4718300.0</td>\n",
       "    </tr>\n",
       "  </tbody>\n",
       "</table>\n",
       "<p>2035 rows × 11 columns</p>\n",
       "</div>"
      ],
      "text/plain": [
       "       date       Entity Code  Year  Population - Education: Post Secondary  \\\n",
       "30     1980  Afghanistan  AFG  1980                                 35200.0   \n",
       "31     1981  Afghanistan  AFG  1980                                 37640.0   \n",
       "32     1982  Afghanistan  AFG  1980                                 40080.0   \n",
       "33     1983  Afghanistan  AFG  1980                                 42520.0   \n",
       "34     1984  Afghanistan  AFG  1980                                 44960.0   \n",
       "...     ...          ...  ...   ...                                     ...   \n",
       "14185  1986     Zimbabwe  ZWE  1985                                205800.0   \n",
       "14186  1987     Zimbabwe  ZWE  1985                                226300.0   \n",
       "14187  1988     Zimbabwe  ZWE  1985                                246800.0   \n",
       "14188  1989     Zimbabwe  ZWE  1985                                267300.0   \n",
       "14189  1990     Zimbabwe  ZWE  1990                                287800.0   \n",
       "\n",
       "       Population - Education: Upper Secondary  \\\n",
       "30                                    193600.0   \n",
       "31                                    198840.0   \n",
       "32                                    204080.0   \n",
       "33                                    209320.0   \n",
       "34                                    214560.0   \n",
       "...                                        ...   \n",
       "14185                                 687940.0   \n",
       "14186                                 765680.0   \n",
       "14187                                 843420.0   \n",
       "14188                                 921160.0   \n",
       "14189                                 998900.0   \n",
       "\n",
       "       Population - Education: Lower Secondary  \\\n",
       "30                                         0.0   \n",
       "31                                         0.0   \n",
       "32                                         0.0   \n",
       "33                                         0.0   \n",
       "34                                         0.0   \n",
       "...                                        ...   \n",
       "14185                                1072180.0   \n",
       "14186                                1132460.0   \n",
       "14187                                1192740.0   \n",
       "14188                                1253020.0   \n",
       "14189                                1313300.0   \n",
       "\n",
       "       Population - Education: Primary  \\\n",
       "30                            602000.0   \n",
       "31                            595300.0   \n",
       "32                            588600.0   \n",
       "33                            581900.0   \n",
       "34                            575200.0   \n",
       "...                                ...   \n",
       "14185                         956760.0   \n",
       "14186                         998920.0   \n",
       "14187                        1041080.0   \n",
       "14188                        1083240.0   \n",
       "14189                        1125400.0   \n",
       "\n",
       "       Population - Education: Incomplete Primary  \\\n",
       "30                                            0.0   \n",
       "31                                            0.0   \n",
       "32                                            0.0   \n",
       "33                                            0.0   \n",
       "34                                            0.0   \n",
       "...                                           ...   \n",
       "14185                                    848380.0   \n",
       "14186                                    859860.0   \n",
       "14187                                    871340.0   \n",
       "14188                                    882820.0   \n",
       "14189                                    894300.0   \n",
       "\n",
       "       Population - Education: No Education  Population - Education: Under 15  \n",
       "30                              6309900.000                         6086900.0  \n",
       "31                              6106700.000                         5983240.0  \n",
       "32                              5903500.000                         5879580.0  \n",
       "33                              5700300.000                         5775920.0  \n",
       "34                              5497100.000                         5672260.0  \n",
       "...                                     ...                               ...  \n",
       "14185                           1051619.988                         4279180.0  \n",
       "14186                           1046639.976                         4388960.0  \n",
       "14187                           1041659.964                         4498740.0  \n",
       "14188                           1036679.952                         4608520.0  \n",
       "14189                           1031699.940                         4718300.0  \n",
       "\n",
       "[2035 rows x 11 columns]"
      ]
     },
     "execution_count": 531,
     "metadata": {},
     "output_type": "execute_result"
    }
   ],
   "source": [
    "df_resampled.loc[df_resampled['date'].between(1980,1990)]"
   ]
  },
  {
   "cell_type": "code",
   "execution_count": 532,
   "metadata": {},
   "outputs": [
    {
     "name": "stdout",
     "output_type": "stream",
     "text": [
      "2025\n",
      "2023\n"
     ]
    }
   ],
   "source": [
    "print(df_resampled['date'].max())\n",
    "print(WorldPopulation_Gro['Year'].max())\n",
    "# our resampled data ends in 2025 while the original data ends in 2023, we have to delete the extra rows"
   ]
  },
  {
   "cell_type": "code",
   "execution_count": 533,
   "metadata": {},
   "outputs": [],
   "source": [
    "df_resampled=df_resampled.loc[df_resampled['date'] < 2024]"
   ]
  },
  {
   "cell_type": "code",
   "execution_count": 534,
   "metadata": {},
   "outputs": [
    {
     "data": {
      "text/plain": [
       "np.int64(2023)"
      ]
     },
     "execution_count": 534,
     "metadata": {},
     "output_type": "execute_result"
    }
   ],
   "source": [
    "df_resampled['date'].max()"
   ]
  },
  {
   "cell_type": "code",
   "execution_count": 535,
   "metadata": {},
   "outputs": [
    {
     "name": "stdout",
     "output_type": "stream",
     "text": [
      "(13825, 11)\n",
      "(14800, 4)\n"
     ]
    }
   ],
   "source": [
    "print(df_resampled.shape)\n",
    "print(WorldPopulation_Gro.shape)"
   ]
  },
  {
   "cell_type": "markdown",
   "metadata": {},
   "source": [
    "Will do a left join now between our two dataframes"
   ]
  },
  {
   "cell_type": "code",
   "execution_count": 536,
   "metadata": {},
   "outputs": [],
   "source": [
    "MergedDf=WorldPopulation_Gro.merge(df_resampled, how='inner', left_on=['Code','Year'],right_on=['Code','date'])"
   ]
  },
  {
   "cell_type": "code",
   "execution_count": 537,
   "metadata": {},
   "outputs": [
    {
     "data": {
      "text/html": [
       "<div>\n",
       "<style scoped>\n",
       "    .dataframe tbody tr th:only-of-type {\n",
       "        vertical-align: middle;\n",
       "    }\n",
       "\n",
       "    .dataframe tbody tr th {\n",
       "        vertical-align: top;\n",
       "    }\n",
       "\n",
       "    .dataframe thead th {\n",
       "        text-align: right;\n",
       "    }\n",
       "</style>\n",
       "<table border=\"1\" class=\"dataframe\">\n",
       "  <thead>\n",
       "    <tr style=\"text-align: right;\">\n",
       "      <th></th>\n",
       "      <th>Entity_x</th>\n",
       "      <th>Code</th>\n",
       "      <th>Year_x</th>\n",
       "      <th>Population growth rate - Sex: all - Age: all - Variant: estimates</th>\n",
       "      <th>date</th>\n",
       "      <th>Entity_y</th>\n",
       "      <th>Year_y</th>\n",
       "      <th>Population - Education: Post Secondary</th>\n",
       "      <th>Population - Education: Upper Secondary</th>\n",
       "      <th>Population - Education: Lower Secondary</th>\n",
       "      <th>Population - Education: Primary</th>\n",
       "      <th>Population - Education: Incomplete Primary</th>\n",
       "      <th>Population - Education: No Education</th>\n",
       "      <th>Population - Education: Under 15</th>\n",
       "    </tr>\n",
       "  </thead>\n",
       "  <tbody>\n",
       "    <tr>\n",
       "      <th>0</th>\n",
       "      <td>Afghanistan</td>\n",
       "      <td>AFG</td>\n",
       "      <td>1950</td>\n",
       "      <td>1.275</td>\n",
       "      <td>1950</td>\n",
       "      <td>Afghanistan</td>\n",
       "      <td>1950</td>\n",
       "      <td>800.0</td>\n",
       "      <td>5300.0</td>\n",
       "      <td>0.0</td>\n",
       "      <td>155000.0</td>\n",
       "      <td>0.0</td>\n",
       "      <td>4411200.0</td>\n",
       "      <td>3179900.0</td>\n",
       "    </tr>\n",
       "    <tr>\n",
       "      <th>1</th>\n",
       "      <td>Afghanistan</td>\n",
       "      <td>AFG</td>\n",
       "      <td>1951</td>\n",
       "      <td>1.360</td>\n",
       "      <td>1951</td>\n",
       "      <td>Afghanistan</td>\n",
       "      <td>1950</td>\n",
       "      <td>960.0</td>\n",
       "      <td>6240.0</td>\n",
       "      <td>0.0</td>\n",
       "      <td>163460.0</td>\n",
       "      <td>0.0</td>\n",
       "      <td>4455640.0</td>\n",
       "      <td>3229540.0</td>\n",
       "    </tr>\n",
       "    <tr>\n",
       "      <th>2</th>\n",
       "      <td>Afghanistan</td>\n",
       "      <td>AFG</td>\n",
       "      <td>1952</td>\n",
       "      <td>1.374</td>\n",
       "      <td>1952</td>\n",
       "      <td>Afghanistan</td>\n",
       "      <td>1950</td>\n",
       "      <td>1120.0</td>\n",
       "      <td>7180.0</td>\n",
       "      <td>0.0</td>\n",
       "      <td>171920.0</td>\n",
       "      <td>0.0</td>\n",
       "      <td>4500080.0</td>\n",
       "      <td>3279180.0</td>\n",
       "    </tr>\n",
       "    <tr>\n",
       "      <th>3</th>\n",
       "      <td>Afghanistan</td>\n",
       "      <td>AFG</td>\n",
       "      <td>1953</td>\n",
       "      <td>1.335</td>\n",
       "      <td>1953</td>\n",
       "      <td>Afghanistan</td>\n",
       "      <td>1950</td>\n",
       "      <td>1280.0</td>\n",
       "      <td>8120.0</td>\n",
       "      <td>0.0</td>\n",
       "      <td>180380.0</td>\n",
       "      <td>0.0</td>\n",
       "      <td>4544520.0</td>\n",
       "      <td>3328820.0</td>\n",
       "    </tr>\n",
       "    <tr>\n",
       "      <th>4</th>\n",
       "      <td>Afghanistan</td>\n",
       "      <td>AFG</td>\n",
       "      <td>1954</td>\n",
       "      <td>1.394</td>\n",
       "      <td>1954</td>\n",
       "      <td>Afghanistan</td>\n",
       "      <td>1950</td>\n",
       "      <td>1440.0</td>\n",
       "      <td>9060.0</td>\n",
       "      <td>0.0</td>\n",
       "      <td>188840.0</td>\n",
       "      <td>0.0</td>\n",
       "      <td>4588960.0</td>\n",
       "      <td>3378460.0</td>\n",
       "    </tr>\n",
       "  </tbody>\n",
       "</table>\n",
       "</div>"
      ],
      "text/plain": [
       "      Entity_x Code  Year_x  \\\n",
       "0  Afghanistan  AFG    1950   \n",
       "1  Afghanistan  AFG    1951   \n",
       "2  Afghanistan  AFG    1952   \n",
       "3  Afghanistan  AFG    1953   \n",
       "4  Afghanistan  AFG    1954   \n",
       "\n",
       "   Population growth rate - Sex: all - Age: all - Variant: estimates  date  \\\n",
       "0                                              1.275                  1950   \n",
       "1                                              1.360                  1951   \n",
       "2                                              1.374                  1952   \n",
       "3                                              1.335                  1953   \n",
       "4                                              1.394                  1954   \n",
       "\n",
       "      Entity_y  Year_y  Population - Education: Post Secondary  \\\n",
       "0  Afghanistan    1950                                   800.0   \n",
       "1  Afghanistan    1950                                   960.0   \n",
       "2  Afghanistan    1950                                  1120.0   \n",
       "3  Afghanistan    1950                                  1280.0   \n",
       "4  Afghanistan    1950                                  1440.0   \n",
       "\n",
       "   Population - Education: Upper Secondary  \\\n",
       "0                                   5300.0   \n",
       "1                                   6240.0   \n",
       "2                                   7180.0   \n",
       "3                                   8120.0   \n",
       "4                                   9060.0   \n",
       "\n",
       "   Population - Education: Lower Secondary  Population - Education: Primary  \\\n",
       "0                                      0.0                         155000.0   \n",
       "1                                      0.0                         163460.0   \n",
       "2                                      0.0                         171920.0   \n",
       "3                                      0.0                         180380.0   \n",
       "4                                      0.0                         188840.0   \n",
       "\n",
       "   Population - Education: Incomplete Primary  \\\n",
       "0                                         0.0   \n",
       "1                                         0.0   \n",
       "2                                         0.0   \n",
       "3                                         0.0   \n",
       "4                                         0.0   \n",
       "\n",
       "   Population - Education: No Education  Population - Education: Under 15  \n",
       "0                             4411200.0                         3179900.0  \n",
       "1                             4455640.0                         3229540.0  \n",
       "2                             4500080.0                         3279180.0  \n",
       "3                             4544520.0                         3328820.0  \n",
       "4                             4588960.0                         3378460.0  "
      ]
     },
     "execution_count": 537,
     "metadata": {},
     "output_type": "execute_result"
    }
   ],
   "source": [
    "MergedDf.head()"
   ]
  },
  {
   "cell_type": "code",
   "execution_count": 538,
   "metadata": {},
   "outputs": [],
   "source": [
    "# cleaning the data\n",
    "MergedDf = MergedDf.drop(columns=['Year_y'], axis=1)\n",
    "MergedDf = MergedDf.drop(columns=['date'], axis=1)\n",
    "MergedDf = MergedDf.drop(columns=['Entity_y'], axis=1)"
   ]
  },
  {
   "cell_type": "code",
   "execution_count": 539,
   "metadata": {},
   "outputs": [
    {
     "data": {
      "text/html": [
       "<div>\n",
       "<style scoped>\n",
       "    .dataframe tbody tr th:only-of-type {\n",
       "        vertical-align: middle;\n",
       "    }\n",
       "\n",
       "    .dataframe tbody tr th {\n",
       "        vertical-align: top;\n",
       "    }\n",
       "\n",
       "    .dataframe thead th {\n",
       "        text-align: right;\n",
       "    }\n",
       "</style>\n",
       "<table border=\"1\" class=\"dataframe\">\n",
       "  <thead>\n",
       "    <tr style=\"text-align: right;\">\n",
       "      <th></th>\n",
       "      <th>Entity_x</th>\n",
       "      <th>Code</th>\n",
       "      <th>Year_x</th>\n",
       "      <th>Population growth rate - Sex: all - Age: all - Variant: estimates</th>\n",
       "      <th>Population - Education: Post Secondary</th>\n",
       "      <th>Population - Education: Upper Secondary</th>\n",
       "      <th>Population - Education: Lower Secondary</th>\n",
       "      <th>Population - Education: Primary</th>\n",
       "      <th>Population - Education: Incomplete Primary</th>\n",
       "      <th>Population - Education: No Education</th>\n",
       "      <th>Population - Education: Under 15</th>\n",
       "    </tr>\n",
       "  </thead>\n",
       "  <tbody>\n",
       "    <tr>\n",
       "      <th>0</th>\n",
       "      <td>Afghanistan</td>\n",
       "      <td>AFG</td>\n",
       "      <td>1950</td>\n",
       "      <td>1.275</td>\n",
       "      <td>800.0</td>\n",
       "      <td>5300.0</td>\n",
       "      <td>0.0</td>\n",
       "      <td>155000.0</td>\n",
       "      <td>0.0</td>\n",
       "      <td>4411200.0</td>\n",
       "      <td>3179900.0</td>\n",
       "    </tr>\n",
       "    <tr>\n",
       "      <th>1</th>\n",
       "      <td>Afghanistan</td>\n",
       "      <td>AFG</td>\n",
       "      <td>1951</td>\n",
       "      <td>1.360</td>\n",
       "      <td>960.0</td>\n",
       "      <td>6240.0</td>\n",
       "      <td>0.0</td>\n",
       "      <td>163460.0</td>\n",
       "      <td>0.0</td>\n",
       "      <td>4455640.0</td>\n",
       "      <td>3229540.0</td>\n",
       "    </tr>\n",
       "    <tr>\n",
       "      <th>2</th>\n",
       "      <td>Afghanistan</td>\n",
       "      <td>AFG</td>\n",
       "      <td>1952</td>\n",
       "      <td>1.374</td>\n",
       "      <td>1120.0</td>\n",
       "      <td>7180.0</td>\n",
       "      <td>0.0</td>\n",
       "      <td>171920.0</td>\n",
       "      <td>0.0</td>\n",
       "      <td>4500080.0</td>\n",
       "      <td>3279180.0</td>\n",
       "    </tr>\n",
       "    <tr>\n",
       "      <th>3</th>\n",
       "      <td>Afghanistan</td>\n",
       "      <td>AFG</td>\n",
       "      <td>1953</td>\n",
       "      <td>1.335</td>\n",
       "      <td>1280.0</td>\n",
       "      <td>8120.0</td>\n",
       "      <td>0.0</td>\n",
       "      <td>180380.0</td>\n",
       "      <td>0.0</td>\n",
       "      <td>4544520.0</td>\n",
       "      <td>3328820.0</td>\n",
       "    </tr>\n",
       "    <tr>\n",
       "      <th>4</th>\n",
       "      <td>Afghanistan</td>\n",
       "      <td>AFG</td>\n",
       "      <td>1954</td>\n",
       "      <td>1.394</td>\n",
       "      <td>1440.0</td>\n",
       "      <td>9060.0</td>\n",
       "      <td>0.0</td>\n",
       "      <td>188840.0</td>\n",
       "      <td>0.0</td>\n",
       "      <td>4588960.0</td>\n",
       "      <td>3378460.0</td>\n",
       "    </tr>\n",
       "  </tbody>\n",
       "</table>\n",
       "</div>"
      ],
      "text/plain": [
       "      Entity_x Code  Year_x  \\\n",
       "0  Afghanistan  AFG    1950   \n",
       "1  Afghanistan  AFG    1951   \n",
       "2  Afghanistan  AFG    1952   \n",
       "3  Afghanistan  AFG    1953   \n",
       "4  Afghanistan  AFG    1954   \n",
       "\n",
       "   Population growth rate - Sex: all - Age: all - Variant: estimates  \\\n",
       "0                                              1.275                   \n",
       "1                                              1.360                   \n",
       "2                                              1.374                   \n",
       "3                                              1.335                   \n",
       "4                                              1.394                   \n",
       "\n",
       "   Population - Education: Post Secondary  \\\n",
       "0                                   800.0   \n",
       "1                                   960.0   \n",
       "2                                  1120.0   \n",
       "3                                  1280.0   \n",
       "4                                  1440.0   \n",
       "\n",
       "   Population - Education: Upper Secondary  \\\n",
       "0                                   5300.0   \n",
       "1                                   6240.0   \n",
       "2                                   7180.0   \n",
       "3                                   8120.0   \n",
       "4                                   9060.0   \n",
       "\n",
       "   Population - Education: Lower Secondary  Population - Education: Primary  \\\n",
       "0                                      0.0                         155000.0   \n",
       "1                                      0.0                         163460.0   \n",
       "2                                      0.0                         171920.0   \n",
       "3                                      0.0                         180380.0   \n",
       "4                                      0.0                         188840.0   \n",
       "\n",
       "   Population - Education: Incomplete Primary  \\\n",
       "0                                         0.0   \n",
       "1                                         0.0   \n",
       "2                                         0.0   \n",
       "3                                         0.0   \n",
       "4                                         0.0   \n",
       "\n",
       "   Population - Education: No Education  Population - Education: Under 15  \n",
       "0                             4411200.0                         3179900.0  \n",
       "1                             4455640.0                         3229540.0  \n",
       "2                             4500080.0                         3279180.0  \n",
       "3                             4544520.0                         3328820.0  \n",
       "4                             4588960.0                         3378460.0  "
      ]
     },
     "execution_count": 539,
     "metadata": {},
     "output_type": "execute_result"
    }
   ],
   "source": [
    "MergedDf.head()"
   ]
  },
  {
   "cell_type": "code",
   "execution_count": 540,
   "metadata": {},
   "outputs": [],
   "source": [
    "MergedDf = MergedDf.rename(columns={'Population - Education: Post Secondary': 'Education_Post_Secondary',\n",
    "                                    'Population - Education: Upper Secondary':'Education_Upper_Secondary',\n",
    "                                    'Population - Education: Lower Secondary':'Education_Lower_Secondary',\n",
    "                                    'Population - Education: Incomplete Primary':'Education_Incomplete_Primary',\n",
    "                                    'Population - Education: No Education':'Education_No_Education',\n",
    "                                    'Population - Education: Under 15':'Education_Under_15',\n",
    "                                    'Population growth rate - Sex: all - Age: all - Variant: estimates':'Growth_Rate',\n",
    "                                    'Population - Education: Primary':'Education_Primary',\n",
    "                                        'Entity_x':'Entity',\n",
    "                                        'Year_x':'Year'\t})"
   ]
  },
  {
   "cell_type": "code",
   "execution_count": 541,
   "metadata": {},
   "outputs": [
    {
     "data": {
      "text/html": [
       "<div>\n",
       "<style scoped>\n",
       "    .dataframe tbody tr th:only-of-type {\n",
       "        vertical-align: middle;\n",
       "    }\n",
       "\n",
       "    .dataframe tbody tr th {\n",
       "        vertical-align: top;\n",
       "    }\n",
       "\n",
       "    .dataframe thead th {\n",
       "        text-align: right;\n",
       "    }\n",
       "</style>\n",
       "<table border=\"1\" class=\"dataframe\">\n",
       "  <thead>\n",
       "    <tr style=\"text-align: right;\">\n",
       "      <th></th>\n",
       "      <th>Entity</th>\n",
       "      <th>Code</th>\n",
       "      <th>Year</th>\n",
       "      <th>Growth_Rate</th>\n",
       "      <th>Education_Post_Secondary</th>\n",
       "      <th>Education_Upper_Secondary</th>\n",
       "      <th>Education_Lower_Secondary</th>\n",
       "      <th>Education_Primary</th>\n",
       "      <th>Education_Incomplete_Primary</th>\n",
       "      <th>Education_No_Education</th>\n",
       "      <th>Education_Under_15</th>\n",
       "    </tr>\n",
       "  </thead>\n",
       "  <tbody>\n",
       "    <tr>\n",
       "      <th>0</th>\n",
       "      <td>Afghanistan</td>\n",
       "      <td>AFG</td>\n",
       "      <td>1950</td>\n",
       "      <td>1.275</td>\n",
       "      <td>800.0</td>\n",
       "      <td>5300.0</td>\n",
       "      <td>0.00</td>\n",
       "      <td>155000.0</td>\n",
       "      <td>0.0</td>\n",
       "      <td>4411200.0</td>\n",
       "      <td>3179900.0</td>\n",
       "    </tr>\n",
       "    <tr>\n",
       "      <th>1</th>\n",
       "      <td>Afghanistan</td>\n",
       "      <td>AFG</td>\n",
       "      <td>1951</td>\n",
       "      <td>1.360</td>\n",
       "      <td>960.0</td>\n",
       "      <td>6240.0</td>\n",
       "      <td>0.00</td>\n",
       "      <td>163460.0</td>\n",
       "      <td>0.0</td>\n",
       "      <td>4455640.0</td>\n",
       "      <td>3229540.0</td>\n",
       "    </tr>\n",
       "    <tr>\n",
       "      <th>2</th>\n",
       "      <td>Afghanistan</td>\n",
       "      <td>AFG</td>\n",
       "      <td>1952</td>\n",
       "      <td>1.374</td>\n",
       "      <td>1120.0</td>\n",
       "      <td>7180.0</td>\n",
       "      <td>0.00</td>\n",
       "      <td>171920.0</td>\n",
       "      <td>0.0</td>\n",
       "      <td>4500080.0</td>\n",
       "      <td>3279180.0</td>\n",
       "    </tr>\n",
       "    <tr>\n",
       "      <th>3</th>\n",
       "      <td>Afghanistan</td>\n",
       "      <td>AFG</td>\n",
       "      <td>1953</td>\n",
       "      <td>1.335</td>\n",
       "      <td>1280.0</td>\n",
       "      <td>8120.0</td>\n",
       "      <td>0.00</td>\n",
       "      <td>180380.0</td>\n",
       "      <td>0.0</td>\n",
       "      <td>4544520.0</td>\n",
       "      <td>3328820.0</td>\n",
       "    </tr>\n",
       "    <tr>\n",
       "      <th>4</th>\n",
       "      <td>Afghanistan</td>\n",
       "      <td>AFG</td>\n",
       "      <td>1954</td>\n",
       "      <td>1.394</td>\n",
       "      <td>1440.0</td>\n",
       "      <td>9060.0</td>\n",
       "      <td>0.00</td>\n",
       "      <td>188840.0</td>\n",
       "      <td>0.0</td>\n",
       "      <td>4588960.0</td>\n",
       "      <td>3378460.0</td>\n",
       "    </tr>\n",
       "    <tr>\n",
       "      <th>...</th>\n",
       "      <td>...</td>\n",
       "      <td>...</td>\n",
       "      <td>...</td>\n",
       "      <td>...</td>\n",
       "      <td>...</td>\n",
       "      <td>...</td>\n",
       "      <td>...</td>\n",
       "      <td>...</td>\n",
       "      <td>...</td>\n",
       "      <td>...</td>\n",
       "      <td>...</td>\n",
       "    </tr>\n",
       "    <tr>\n",
       "      <th>13820</th>\n",
       "      <td>Zimbabwe</td>\n",
       "      <td>ZWE</td>\n",
       "      <td>2019</td>\n",
       "      <td>1.609</td>\n",
       "      <td>930440.0</td>\n",
       "      <td>4821040.0</td>\n",
       "      <td>2040240.08</td>\n",
       "      <td>1327360.0</td>\n",
       "      <td>604780.0</td>\n",
       "      <td>542700.0</td>\n",
       "      <td>6938680.0</td>\n",
       "    </tr>\n",
       "    <tr>\n",
       "      <th>13821</th>\n",
       "      <td>Zimbabwe</td>\n",
       "      <td>ZWE</td>\n",
       "      <td>2020</td>\n",
       "      <td>1.709</td>\n",
       "      <td>980200.0</td>\n",
       "      <td>5077400.0</td>\n",
       "      <td>2052100.10</td>\n",
       "      <td>1315900.0</td>\n",
       "      <td>580900.0</td>\n",
       "      <td>518300.0</td>\n",
       "      <td>7037600.0</td>\n",
       "    </tr>\n",
       "    <tr>\n",
       "      <th>13822</th>\n",
       "      <td>Zimbabwe</td>\n",
       "      <td>ZWE</td>\n",
       "      <td>2021</td>\n",
       "      <td>1.743</td>\n",
       "      <td>1036920.0</td>\n",
       "      <td>5376080.0</td>\n",
       "      <td>2075620.08</td>\n",
       "      <td>1296140.0</td>\n",
       "      <td>550960.0</td>\n",
       "      <td>489640.0</td>\n",
       "      <td>7054120.0</td>\n",
       "    </tr>\n",
       "    <tr>\n",
       "      <th>13823</th>\n",
       "      <td>Zimbabwe</td>\n",
       "      <td>ZWE</td>\n",
       "      <td>2022</td>\n",
       "      <td>1.670</td>\n",
       "      <td>1093640.0</td>\n",
       "      <td>5674760.0</td>\n",
       "      <td>2099140.06</td>\n",
       "      <td>1276380.0</td>\n",
       "      <td>521020.0</td>\n",
       "      <td>460980.0</td>\n",
       "      <td>7070640.0</td>\n",
       "    </tr>\n",
       "    <tr>\n",
       "      <th>13824</th>\n",
       "      <td>Zimbabwe</td>\n",
       "      <td>ZWE</td>\n",
       "      <td>2023</td>\n",
       "      <td>1.684</td>\n",
       "      <td>1150360.0</td>\n",
       "      <td>5973440.0</td>\n",
       "      <td>2122660.04</td>\n",
       "      <td>1256620.0</td>\n",
       "      <td>491080.0</td>\n",
       "      <td>432320.0</td>\n",
       "      <td>7087160.0</td>\n",
       "    </tr>\n",
       "  </tbody>\n",
       "</table>\n",
       "<p>13825 rows × 11 columns</p>\n",
       "</div>"
      ],
      "text/plain": [
       "            Entity Code  Year  Growth_Rate  Education_Post_Secondary  \\\n",
       "0      Afghanistan  AFG  1950        1.275                     800.0   \n",
       "1      Afghanistan  AFG  1951        1.360                     960.0   \n",
       "2      Afghanistan  AFG  1952        1.374                    1120.0   \n",
       "3      Afghanistan  AFG  1953        1.335                    1280.0   \n",
       "4      Afghanistan  AFG  1954        1.394                    1440.0   \n",
       "...            ...  ...   ...          ...                       ...   \n",
       "13820     Zimbabwe  ZWE  2019        1.609                  930440.0   \n",
       "13821     Zimbabwe  ZWE  2020        1.709                  980200.0   \n",
       "13822     Zimbabwe  ZWE  2021        1.743                 1036920.0   \n",
       "13823     Zimbabwe  ZWE  2022        1.670                 1093640.0   \n",
       "13824     Zimbabwe  ZWE  2023        1.684                 1150360.0   \n",
       "\n",
       "       Education_Upper_Secondary  Education_Lower_Secondary  \\\n",
       "0                         5300.0                       0.00   \n",
       "1                         6240.0                       0.00   \n",
       "2                         7180.0                       0.00   \n",
       "3                         8120.0                       0.00   \n",
       "4                         9060.0                       0.00   \n",
       "...                          ...                        ...   \n",
       "13820                  4821040.0                 2040240.08   \n",
       "13821                  5077400.0                 2052100.10   \n",
       "13822                  5376080.0                 2075620.08   \n",
       "13823                  5674760.0                 2099140.06   \n",
       "13824                  5973440.0                 2122660.04   \n",
       "\n",
       "       Education_Primary  Education_Incomplete_Primary  \\\n",
       "0               155000.0                           0.0   \n",
       "1               163460.0                           0.0   \n",
       "2               171920.0                           0.0   \n",
       "3               180380.0                           0.0   \n",
       "4               188840.0                           0.0   \n",
       "...                  ...                           ...   \n",
       "13820          1327360.0                      604780.0   \n",
       "13821          1315900.0                      580900.0   \n",
       "13822          1296140.0                      550960.0   \n",
       "13823          1276380.0                      521020.0   \n",
       "13824          1256620.0                      491080.0   \n",
       "\n",
       "       Education_No_Education  Education_Under_15  \n",
       "0                   4411200.0           3179900.0  \n",
       "1                   4455640.0           3229540.0  \n",
       "2                   4500080.0           3279180.0  \n",
       "3                   4544520.0           3328820.0  \n",
       "4                   4588960.0           3378460.0  \n",
       "...                       ...                 ...  \n",
       "13820                542700.0           6938680.0  \n",
       "13821                518300.0           7037600.0  \n",
       "13822                489640.0           7054120.0  \n",
       "13823                460980.0           7070640.0  \n",
       "13824                432320.0           7087160.0  \n",
       "\n",
       "[13825 rows x 11 columns]"
      ]
     },
     "execution_count": 541,
     "metadata": {},
     "output_type": "execute_result"
    }
   ],
   "source": [
    "MergedDf"
   ]
  },
  {
   "cell_type": "markdown",
   "metadata": {},
   "source": [
    "## Now we will merge more datasets"
   ]
  },
  {
   "cell_type": "code",
   "execution_count": 542,
   "metadata": {},
   "outputs": [],
   "source": [
    "Sex_ratio_df = pd.read_csv('Datasets/sex-ratio.csv')"
   ]
  },
  {
   "cell_type": "code",
   "execution_count": 543,
   "metadata": {},
   "outputs": [
    {
     "name": "stdout",
     "output_type": "stream",
     "text": [
      "<class 'pandas.core.frame.DataFrame'>\n",
      "RangeIndex: 18944 entries, 0 to 18943\n",
      "Data columns (total 4 columns):\n",
      " #   Column                                                Non-Null Count  Dtype  \n",
      "---  ------                                                --------------  -----  \n",
      " 0   Entity                                                18944 non-null  object \n",
      " 1   Code                                                  17612 non-null  object \n",
      " 2   Year                                                  18944 non-null  int64  \n",
      " 3   Sex ratio - Sex: all - Age: all - Variant: estimates  18944 non-null  float64\n",
      "dtypes: float64(1), int64(1), object(2)\n",
      "memory usage: 592.1+ KB\n"
     ]
    }
   ],
   "source": [
    "Sex_ratio_df.info()"
   ]
  },
  {
   "cell_type": "code",
   "execution_count": 544,
   "metadata": {},
   "outputs": [
    {
     "data": {
      "text/plain": [
       "256"
      ]
     },
     "execution_count": 544,
     "metadata": {},
     "output_type": "execute_result"
    }
   ],
   "source": [
    "Sex_ratio_df['Entity'].nunique()\n"
   ]
  },
  {
   "cell_type": "code",
   "execution_count": 545,
   "metadata": {},
   "outputs": [
    {
     "data": {
      "text/plain": [
       "200"
      ]
     },
     "execution_count": 545,
     "metadata": {},
     "output_type": "execute_result"
    }
   ],
   "source": [
    "MergedDf['Entity'].nunique()"
   ]
  },
  {
   "cell_type": "code",
   "execution_count": 546,
   "metadata": {},
   "outputs": [
    {
     "data": {
      "text/plain": [
       "(13825, 11)"
      ]
     },
     "execution_count": 546,
     "metadata": {},
     "output_type": "execute_result"
    }
   ],
   "source": [
    "MergedDf.shape"
   ]
  },
  {
   "cell_type": "markdown",
   "metadata": {},
   "source": [
    "### There is discrepancy between the number of entities in sex ratio and world population growth rate, we will try to fix this first."
   ]
  },
  {
   "cell_type": "code",
   "execution_count": 547,
   "metadata": {},
   "outputs": [],
   "source": [
    "countries_in_df3_not_in_df2 = Sex_ratio_df[~Sex_ratio_df['Entity'].isin(MergedDf['Entity'])]\n"
   ]
  },
  {
   "cell_type": "code",
   "execution_count": 548,
   "metadata": {},
   "outputs": [
    {
     "data": {
      "text/plain": [
       "Entity                                                    56\n",
       "Code                                                      38\n",
       "Year                                                      74\n",
       "Sex ratio - Sex: all - Age: all - Variant: estimates    4131\n",
       "dtype: int64"
      ]
     },
     "execution_count": 548,
     "metadata": {},
     "output_type": "execute_result"
    }
   ],
   "source": [
    "countries_in_df3_not_in_df2.nunique()"
   ]
  },
  {
   "cell_type": "code",
   "execution_count": 549,
   "metadata": {},
   "outputs": [
    {
     "data": {
      "text/plain": [
       "(4144, 4)"
      ]
     },
     "execution_count": 549,
     "metadata": {},
     "output_type": "execute_result"
    }
   ],
   "source": [
    "countries_in_df3_not_in_df2.shape"
   ]
  },
  {
   "cell_type": "code",
   "execution_count": 550,
   "metadata": {},
   "outputs": [
    {
     "data": {
      "text/html": [
       "<div>\n",
       "<style scoped>\n",
       "    .dataframe tbody tr th:only-of-type {\n",
       "        vertical-align: middle;\n",
       "    }\n",
       "\n",
       "    .dataframe tbody tr th {\n",
       "        vertical-align: top;\n",
       "    }\n",
       "\n",
       "    .dataframe thead th {\n",
       "        text-align: right;\n",
       "    }\n",
       "</style>\n",
       "<table border=\"1\" class=\"dataframe\">\n",
       "  <thead>\n",
       "    <tr style=\"text-align: right;\">\n",
       "      <th></th>\n",
       "      <th>Entity</th>\n",
       "      <th>Code</th>\n",
       "      <th>Year</th>\n",
       "      <th>Sex ratio - Sex: all - Age: all - Variant: estimates</th>\n",
       "    </tr>\n",
       "  </thead>\n",
       "  <tbody>\n",
       "    <tr>\n",
       "      <th>74</th>\n",
       "      <td>Africa (UN)</td>\n",
       "      <td>NaN</td>\n",
       "      <td>1950</td>\n",
       "      <td>99.442200</td>\n",
       "    </tr>\n",
       "    <tr>\n",
       "      <th>75</th>\n",
       "      <td>Africa (UN)</td>\n",
       "      <td>NaN</td>\n",
       "      <td>1951</td>\n",
       "      <td>99.342720</td>\n",
       "    </tr>\n",
       "    <tr>\n",
       "      <th>76</th>\n",
       "      <td>Africa (UN)</td>\n",
       "      <td>NaN</td>\n",
       "      <td>1952</td>\n",
       "      <td>99.262350</td>\n",
       "    </tr>\n",
       "    <tr>\n",
       "      <th>77</th>\n",
       "      <td>Africa (UN)</td>\n",
       "      <td>NaN</td>\n",
       "      <td>1953</td>\n",
       "      <td>99.195045</td>\n",
       "    </tr>\n",
       "    <tr>\n",
       "      <th>78</th>\n",
       "      <td>Africa (UN)</td>\n",
       "      <td>NaN</td>\n",
       "      <td>1954</td>\n",
       "      <td>99.129060</td>\n",
       "    </tr>\n",
       "  </tbody>\n",
       "</table>\n",
       "</div>"
      ],
      "text/plain": [
       "         Entity Code  Year  \\\n",
       "74  Africa (UN)  NaN  1950   \n",
       "75  Africa (UN)  NaN  1951   \n",
       "76  Africa (UN)  NaN  1952   \n",
       "77  Africa (UN)  NaN  1953   \n",
       "78  Africa (UN)  NaN  1954   \n",
       "\n",
       "    Sex ratio - Sex: all - Age: all - Variant: estimates  \n",
       "74                                          99.442200     \n",
       "75                                          99.342720     \n",
       "76                                          99.262350     \n",
       "77                                          99.195045     \n",
       "78                                          99.129060     "
      ]
     },
     "execution_count": 550,
     "metadata": {},
     "output_type": "execute_result"
    }
   ],
   "source": [
    "countries_in_df3_not_in_df2.head()"
   ]
  },
  {
   "cell_type": "code",
   "execution_count": 551,
   "metadata": {},
   "outputs": [],
   "source": [
    "# Sex_ratio has 56 countries that are not in MergedDf, which accounts for 4144 differences, we must delete these rows\n",
    "Sex_ratio_df.drop(countries_in_df3_not_in_df2['Entity'].index, inplace=True)\n"
   ]
  },
  {
   "cell_type": "code",
   "execution_count": 552,
   "metadata": {},
   "outputs": [
    {
     "name": "stdout",
     "output_type": "stream",
     "text": [
      "(14800, 4)\n",
      "(13825, 11)\n"
     ]
    }
   ],
   "source": [
    "print(Sex_ratio_df.shape)\n",
    "print(MergedDf.shape)\n",
    "# even after deleting the rows, the number of entities is still not the same, we have to inestigate further.\n"
   ]
  },
  {
   "cell_type": "code",
   "execution_count": 553,
   "metadata": {},
   "outputs": [
    {
     "name": "stdout",
     "output_type": "stream",
     "text": [
      "        Entity Code  Year  \\\n",
      "0  Afghanistan  AFG  1950   \n",
      "1  Afghanistan  AFG  1951   \n",
      "2  Afghanistan  AFG  1952   \n",
      "3  Afghanistan  AFG  1953   \n",
      "4  Afghanistan  AFG  1954   \n",
      "\n",
      "   Sex ratio - Sex: all - Age: all - Variant: estimates  \n",
      "0                                         112.618350     \n",
      "1                                         112.082726     \n",
      "2                                         111.549540     \n",
      "3                                         111.028630     \n",
      "4                                         110.527310     \n",
      "--------------------------------------------------------------------------\n",
      "        Entity Code  Year  Growth_Rate  Education_Post_Secondary  \\\n",
      "0  Afghanistan  AFG  1950        1.275                     800.0   \n",
      "1  Afghanistan  AFG  1951        1.360                     960.0   \n",
      "2  Afghanistan  AFG  1952        1.374                    1120.0   \n",
      "3  Afghanistan  AFG  1953        1.335                    1280.0   \n",
      "4  Afghanistan  AFG  1954        1.394                    1440.0   \n",
      "\n",
      "   Education_Upper_Secondary  Education_Lower_Secondary  Education_Primary  \\\n",
      "0                     5300.0                        0.0           155000.0   \n",
      "1                     6240.0                        0.0           163460.0   \n",
      "2                     7180.0                        0.0           171920.0   \n",
      "3                     8120.0                        0.0           180380.0   \n",
      "4                     9060.0                        0.0           188840.0   \n",
      "\n",
      "   Education_Incomplete_Primary  Education_No_Education  Education_Under_15  \n",
      "0                           0.0               4411200.0           3179900.0  \n",
      "1                           0.0               4455640.0           3229540.0  \n",
      "2                           0.0               4500080.0           3279180.0  \n",
      "3                           0.0               4544520.0           3328820.0  \n",
      "4                           0.0               4588960.0           3378460.0  \n",
      "--------------------------------------------------------------------------\n",
      "         Entity Code  Year  \\\n",
      "18939  Zimbabwe  ZWE  2019   \n",
      "18940  Zimbabwe  ZWE  2020   \n",
      "18941  Zimbabwe  ZWE  2021   \n",
      "18942  Zimbabwe  ZWE  2022   \n",
      "18943  Zimbabwe  ZWE  2023   \n",
      "\n",
      "       Sex ratio - Sex: all - Age: all - Variant: estimates  \n",
      "18939                                          90.228190     \n",
      "18940                                          90.366800     \n",
      "18941                                          90.517715     \n",
      "18942                                          90.700360     \n",
      "18943                                          90.899910     \n",
      "--------------------------------------------------------------------------\n",
      "         Entity Code  Year  Growth_Rate  Education_Post_Secondary  \\\n",
      "13820  Zimbabwe  ZWE  2019        1.609                  930440.0   \n",
      "13821  Zimbabwe  ZWE  2020        1.709                  980200.0   \n",
      "13822  Zimbabwe  ZWE  2021        1.743                 1036920.0   \n",
      "13823  Zimbabwe  ZWE  2022        1.670                 1093640.0   \n",
      "13824  Zimbabwe  ZWE  2023        1.684                 1150360.0   \n",
      "\n",
      "       Education_Upper_Secondary  Education_Lower_Secondary  \\\n",
      "13820                  4821040.0                 2040240.08   \n",
      "13821                  5077400.0                 2052100.10   \n",
      "13822                  5376080.0                 2075620.08   \n",
      "13823                  5674760.0                 2099140.06   \n",
      "13824                  5973440.0                 2122660.04   \n",
      "\n",
      "       Education_Primary  Education_Incomplete_Primary  \\\n",
      "13820          1327360.0                      604780.0   \n",
      "13821          1315900.0                      580900.0   \n",
      "13822          1296140.0                      550960.0   \n",
      "13823          1276380.0                      521020.0   \n",
      "13824          1256620.0                      491080.0   \n",
      "\n",
      "       Education_No_Education  Education_Under_15  \n",
      "13820                542700.0           6938680.0  \n",
      "13821                518300.0           7037600.0  \n",
      "13822                489640.0           7054120.0  \n",
      "13823                460980.0           7070640.0  \n",
      "13824                432320.0           7087160.0  \n"
     ]
    }
   ],
   "source": [
    "print(Sex_ratio_df.head())\n",
    "print('--------------------------------------------------------------------------')\n",
    "print(MergedDf.head())\n",
    "print('--------------------------------------------------------------------------')\n",
    "print(Sex_ratio_df.tail())\n",
    "print('--------------------------------------------------------------------------')\n",
    "print(MergedDf.tail())\n",
    "\n",
    "\n"
   ]
  },
  {
   "cell_type": "code",
   "execution_count": 554,
   "metadata": {},
   "outputs": [
    {
     "data": {
      "text/plain": [
       "'as can be seen, head and tail match exactly of our dataset\\nLets try another column comparison, for example year'"
      ]
     },
     "execution_count": 554,
     "metadata": {},
     "output_type": "execute_result"
    }
   ],
   "source": [
    "'''as can be seen, head and tail match exactly of our dataset\n",
    "Lets try another column comparison, for example year'''\n"
   ]
  },
  {
   "cell_type": "code",
   "execution_count": 555,
   "metadata": {},
   "outputs": [],
   "source": [
    "countries_in_df3_not_in_df2Second = Sex_ratio_df[~Sex_ratio_df['Year'].isin(MergedDf['Year'])]\n"
   ]
  },
  {
   "cell_type": "code",
   "execution_count": 556,
   "metadata": {},
   "outputs": [
    {
     "data": {
      "text/plain": [
       "(0, 4)"
      ]
     },
     "execution_count": 556,
     "metadata": {},
     "output_type": "execute_result"
    }
   ],
   "source": [
    "countries_in_df3_not_in_df2Second.shape"
   ]
  },
  {
   "cell_type": "code",
   "execution_count": 557,
   "metadata": {},
   "outputs": [
    {
     "data": {
      "text/plain": [
       "Entity                                                  0\n",
       "Code                                                    0\n",
       "Year                                                    0\n",
       "Sex ratio - Sex: all - Age: all - Variant: estimates    0\n",
       "dtype: int64"
      ]
     },
     "execution_count": 557,
     "metadata": {},
     "output_type": "execute_result"
    }
   ],
   "source": [
    "countries_in_df3_not_in_df2Second.nunique()"
   ]
  },
  {
   "cell_type": "code",
   "execution_count": 558,
   "metadata": {},
   "outputs": [
    {
     "name": "stdout",
     "output_type": "stream",
     "text": [
      "<class 'pandas.core.frame.DataFrame'>\n",
      "Index: 14800 entries, 0 to 18943\n",
      "Data columns (total 4 columns):\n",
      " #   Column                                                Non-Null Count  Dtype  \n",
      "---  ------                                                --------------  -----  \n",
      " 0   Entity                                                14800 non-null  object \n",
      " 1   Code                                                  14800 non-null  object \n",
      " 2   Year                                                  14800 non-null  int64  \n",
      " 3   Sex ratio - Sex: all - Age: all - Variant: estimates  14800 non-null  float64\n",
      "dtypes: float64(1), int64(1), object(2)\n",
      "memory usage: 578.1+ KB\n"
     ]
    }
   ],
   "source": [
    "Sex_ratio_df.info()"
   ]
  },
  {
   "cell_type": "code",
   "execution_count": 559,
   "metadata": {},
   "outputs": [
    {
     "name": "stdout",
     "output_type": "stream",
     "text": [
      "<class 'pandas.core.frame.DataFrame'>\n",
      "RangeIndex: 13825 entries, 0 to 13824\n",
      "Data columns (total 11 columns):\n",
      " #   Column                        Non-Null Count  Dtype  \n",
      "---  ------                        --------------  -----  \n",
      " 0   Entity                        13825 non-null  object \n",
      " 1   Code                          13825 non-null  object \n",
      " 2   Year                          13825 non-null  int64  \n",
      " 3   Growth_Rate                   13825 non-null  float64\n",
      " 4   Education_Post_Secondary      13825 non-null  float64\n",
      " 5   Education_Upper_Secondary     13825 non-null  float64\n",
      " 6   Education_Lower_Secondary     13825 non-null  float64\n",
      " 7   Education_Primary             13825 non-null  float64\n",
      " 8   Education_Incomplete_Primary  13825 non-null  float64\n",
      " 9   Education_No_Education        13825 non-null  float64\n",
      " 10  Education_Under_15            13825 non-null  float64\n",
      "dtypes: float64(8), int64(1), object(2)\n",
      "memory usage: 1.2+ MB\n"
     ]
    }
   ],
   "source": [
    "MergedDf.info()"
   ]
  },
  {
   "cell_type": "code",
   "execution_count": 560,
   "metadata": {},
   "outputs": [],
   "source": [
    "# There is no apparent problem, we can go ahead with the join"
   ]
  },
  {
   "cell_type": "code",
   "execution_count": 561,
   "metadata": {},
   "outputs": [],
   "source": [
    "MergedDf=Sex_ratio_df.merge(MergedDf, how='inner', left_on=['Code','Year','Entity'],right_on=['Code','Year','Entity'],)"
   ]
  },
  {
   "cell_type": "code",
   "execution_count": 562,
   "metadata": {},
   "outputs": [
    {
     "name": "stdout",
     "output_type": "stream",
     "text": [
      "<class 'pandas.core.frame.DataFrame'>\n",
      "RangeIndex: 13825 entries, 0 to 13824\n",
      "Data columns (total 12 columns):\n",
      " #   Column                                                Non-Null Count  Dtype  \n",
      "---  ------                                                --------------  -----  \n",
      " 0   Entity                                                13825 non-null  object \n",
      " 1   Code                                                  13825 non-null  object \n",
      " 2   Year                                                  13825 non-null  int64  \n",
      " 3   Sex ratio - Sex: all - Age: all - Variant: estimates  13825 non-null  float64\n",
      " 4   Growth_Rate                                           13825 non-null  float64\n",
      " 5   Education_Post_Secondary                              13825 non-null  float64\n",
      " 6   Education_Upper_Secondary                             13825 non-null  float64\n",
      " 7   Education_Lower_Secondary                             13825 non-null  float64\n",
      " 8   Education_Primary                                     13825 non-null  float64\n",
      " 9   Education_Incomplete_Primary                          13825 non-null  float64\n",
      " 10  Education_No_Education                                13825 non-null  float64\n",
      " 11  Education_Under_15                                    13825 non-null  float64\n",
      "dtypes: float64(9), int64(1), object(2)\n",
      "memory usage: 1.3+ MB\n"
     ]
    }
   ],
   "source": [
    "MergedDf.info()"
   ]
  },
  {
   "cell_type": "code",
   "execution_count": 563,
   "metadata": {},
   "outputs": [],
   "source": [
    "MergedDf.rename(columns={'Sex ratio - Sex: all - Age: all - Variant: estimates':'Males_per_100_Females'},inplace=True)"
   ]
  },
  {
   "cell_type": "code",
   "execution_count": 564,
   "metadata": {},
   "outputs": [
    {
     "data": {
      "text/html": [
       "<div>\n",
       "<style scoped>\n",
       "    .dataframe tbody tr th:only-of-type {\n",
       "        vertical-align: middle;\n",
       "    }\n",
       "\n",
       "    .dataframe tbody tr th {\n",
       "        vertical-align: top;\n",
       "    }\n",
       "\n",
       "    .dataframe thead th {\n",
       "        text-align: right;\n",
       "    }\n",
       "</style>\n",
       "<table border=\"1\" class=\"dataframe\">\n",
       "  <thead>\n",
       "    <tr style=\"text-align: right;\">\n",
       "      <th></th>\n",
       "      <th>Entity</th>\n",
       "      <th>Code</th>\n",
       "      <th>Year</th>\n",
       "      <th>Males_per_100_Females</th>\n",
       "      <th>Growth_Rate</th>\n",
       "      <th>Education_Post_Secondary</th>\n",
       "      <th>Education_Upper_Secondary</th>\n",
       "      <th>Education_Lower_Secondary</th>\n",
       "      <th>Education_Primary</th>\n",
       "      <th>Education_Incomplete_Primary</th>\n",
       "      <th>Education_No_Education</th>\n",
       "      <th>Education_Under_15</th>\n",
       "    </tr>\n",
       "  </thead>\n",
       "  <tbody>\n",
       "    <tr>\n",
       "      <th>0</th>\n",
       "      <td>Afghanistan</td>\n",
       "      <td>AFG</td>\n",
       "      <td>1950</td>\n",
       "      <td>112.618350</td>\n",
       "      <td>1.275</td>\n",
       "      <td>800.0</td>\n",
       "      <td>5300.0</td>\n",
       "      <td>0.00</td>\n",
       "      <td>155000.0</td>\n",
       "      <td>0.0</td>\n",
       "      <td>4411200.0</td>\n",
       "      <td>3179900.0</td>\n",
       "    </tr>\n",
       "    <tr>\n",
       "      <th>1</th>\n",
       "      <td>Afghanistan</td>\n",
       "      <td>AFG</td>\n",
       "      <td>1951</td>\n",
       "      <td>112.082726</td>\n",
       "      <td>1.360</td>\n",
       "      <td>960.0</td>\n",
       "      <td>6240.0</td>\n",
       "      <td>0.00</td>\n",
       "      <td>163460.0</td>\n",
       "      <td>0.0</td>\n",
       "      <td>4455640.0</td>\n",
       "      <td>3229540.0</td>\n",
       "    </tr>\n",
       "    <tr>\n",
       "      <th>2</th>\n",
       "      <td>Afghanistan</td>\n",
       "      <td>AFG</td>\n",
       "      <td>1952</td>\n",
       "      <td>111.549540</td>\n",
       "      <td>1.374</td>\n",
       "      <td>1120.0</td>\n",
       "      <td>7180.0</td>\n",
       "      <td>0.00</td>\n",
       "      <td>171920.0</td>\n",
       "      <td>0.0</td>\n",
       "      <td>4500080.0</td>\n",
       "      <td>3279180.0</td>\n",
       "    </tr>\n",
       "    <tr>\n",
       "      <th>3</th>\n",
       "      <td>Afghanistan</td>\n",
       "      <td>AFG</td>\n",
       "      <td>1953</td>\n",
       "      <td>111.028630</td>\n",
       "      <td>1.335</td>\n",
       "      <td>1280.0</td>\n",
       "      <td>8120.0</td>\n",
       "      <td>0.00</td>\n",
       "      <td>180380.0</td>\n",
       "      <td>0.0</td>\n",
       "      <td>4544520.0</td>\n",
       "      <td>3328820.0</td>\n",
       "    </tr>\n",
       "    <tr>\n",
       "      <th>4</th>\n",
       "      <td>Afghanistan</td>\n",
       "      <td>AFG</td>\n",
       "      <td>1954</td>\n",
       "      <td>110.527310</td>\n",
       "      <td>1.394</td>\n",
       "      <td>1440.0</td>\n",
       "      <td>9060.0</td>\n",
       "      <td>0.00</td>\n",
       "      <td>188840.0</td>\n",
       "      <td>0.0</td>\n",
       "      <td>4588960.0</td>\n",
       "      <td>3378460.0</td>\n",
       "    </tr>\n",
       "    <tr>\n",
       "      <th>...</th>\n",
       "      <td>...</td>\n",
       "      <td>...</td>\n",
       "      <td>...</td>\n",
       "      <td>...</td>\n",
       "      <td>...</td>\n",
       "      <td>...</td>\n",
       "      <td>...</td>\n",
       "      <td>...</td>\n",
       "      <td>...</td>\n",
       "      <td>...</td>\n",
       "      <td>...</td>\n",
       "      <td>...</td>\n",
       "    </tr>\n",
       "    <tr>\n",
       "      <th>13820</th>\n",
       "      <td>Zimbabwe</td>\n",
       "      <td>ZWE</td>\n",
       "      <td>2019</td>\n",
       "      <td>90.228190</td>\n",
       "      <td>1.609</td>\n",
       "      <td>930440.0</td>\n",
       "      <td>4821040.0</td>\n",
       "      <td>2040240.08</td>\n",
       "      <td>1327360.0</td>\n",
       "      <td>604780.0</td>\n",
       "      <td>542700.0</td>\n",
       "      <td>6938680.0</td>\n",
       "    </tr>\n",
       "    <tr>\n",
       "      <th>13821</th>\n",
       "      <td>Zimbabwe</td>\n",
       "      <td>ZWE</td>\n",
       "      <td>2020</td>\n",
       "      <td>90.366800</td>\n",
       "      <td>1.709</td>\n",
       "      <td>980200.0</td>\n",
       "      <td>5077400.0</td>\n",
       "      <td>2052100.10</td>\n",
       "      <td>1315900.0</td>\n",
       "      <td>580900.0</td>\n",
       "      <td>518300.0</td>\n",
       "      <td>7037600.0</td>\n",
       "    </tr>\n",
       "    <tr>\n",
       "      <th>13822</th>\n",
       "      <td>Zimbabwe</td>\n",
       "      <td>ZWE</td>\n",
       "      <td>2021</td>\n",
       "      <td>90.517715</td>\n",
       "      <td>1.743</td>\n",
       "      <td>1036920.0</td>\n",
       "      <td>5376080.0</td>\n",
       "      <td>2075620.08</td>\n",
       "      <td>1296140.0</td>\n",
       "      <td>550960.0</td>\n",
       "      <td>489640.0</td>\n",
       "      <td>7054120.0</td>\n",
       "    </tr>\n",
       "    <tr>\n",
       "      <th>13823</th>\n",
       "      <td>Zimbabwe</td>\n",
       "      <td>ZWE</td>\n",
       "      <td>2022</td>\n",
       "      <td>90.700360</td>\n",
       "      <td>1.670</td>\n",
       "      <td>1093640.0</td>\n",
       "      <td>5674760.0</td>\n",
       "      <td>2099140.06</td>\n",
       "      <td>1276380.0</td>\n",
       "      <td>521020.0</td>\n",
       "      <td>460980.0</td>\n",
       "      <td>7070640.0</td>\n",
       "    </tr>\n",
       "    <tr>\n",
       "      <th>13824</th>\n",
       "      <td>Zimbabwe</td>\n",
       "      <td>ZWE</td>\n",
       "      <td>2023</td>\n",
       "      <td>90.899910</td>\n",
       "      <td>1.684</td>\n",
       "      <td>1150360.0</td>\n",
       "      <td>5973440.0</td>\n",
       "      <td>2122660.04</td>\n",
       "      <td>1256620.0</td>\n",
       "      <td>491080.0</td>\n",
       "      <td>432320.0</td>\n",
       "      <td>7087160.0</td>\n",
       "    </tr>\n",
       "  </tbody>\n",
       "</table>\n",
       "<p>13825 rows × 12 columns</p>\n",
       "</div>"
      ],
      "text/plain": [
       "            Entity Code  Year  Males_per_100_Females  Growth_Rate  \\\n",
       "0      Afghanistan  AFG  1950             112.618350        1.275   \n",
       "1      Afghanistan  AFG  1951             112.082726        1.360   \n",
       "2      Afghanistan  AFG  1952             111.549540        1.374   \n",
       "3      Afghanistan  AFG  1953             111.028630        1.335   \n",
       "4      Afghanistan  AFG  1954             110.527310        1.394   \n",
       "...            ...  ...   ...                    ...          ...   \n",
       "13820     Zimbabwe  ZWE  2019              90.228190        1.609   \n",
       "13821     Zimbabwe  ZWE  2020              90.366800        1.709   \n",
       "13822     Zimbabwe  ZWE  2021              90.517715        1.743   \n",
       "13823     Zimbabwe  ZWE  2022              90.700360        1.670   \n",
       "13824     Zimbabwe  ZWE  2023              90.899910        1.684   \n",
       "\n",
       "       Education_Post_Secondary  Education_Upper_Secondary  \\\n",
       "0                         800.0                     5300.0   \n",
       "1                         960.0                     6240.0   \n",
       "2                        1120.0                     7180.0   \n",
       "3                        1280.0                     8120.0   \n",
       "4                        1440.0                     9060.0   \n",
       "...                         ...                        ...   \n",
       "13820                  930440.0                  4821040.0   \n",
       "13821                  980200.0                  5077400.0   \n",
       "13822                 1036920.0                  5376080.0   \n",
       "13823                 1093640.0                  5674760.0   \n",
       "13824                 1150360.0                  5973440.0   \n",
       "\n",
       "       Education_Lower_Secondary  Education_Primary  \\\n",
       "0                           0.00           155000.0   \n",
       "1                           0.00           163460.0   \n",
       "2                           0.00           171920.0   \n",
       "3                           0.00           180380.0   \n",
       "4                           0.00           188840.0   \n",
       "...                          ...                ...   \n",
       "13820                 2040240.08          1327360.0   \n",
       "13821                 2052100.10          1315900.0   \n",
       "13822                 2075620.08          1296140.0   \n",
       "13823                 2099140.06          1276380.0   \n",
       "13824                 2122660.04          1256620.0   \n",
       "\n",
       "       Education_Incomplete_Primary  Education_No_Education  \\\n",
       "0                               0.0               4411200.0   \n",
       "1                               0.0               4455640.0   \n",
       "2                               0.0               4500080.0   \n",
       "3                               0.0               4544520.0   \n",
       "4                               0.0               4588960.0   \n",
       "...                             ...                     ...   \n",
       "13820                      604780.0                542700.0   \n",
       "13821                      580900.0                518300.0   \n",
       "13822                      550960.0                489640.0   \n",
       "13823                      521020.0                460980.0   \n",
       "13824                      491080.0                432320.0   \n",
       "\n",
       "       Education_Under_15  \n",
       "0               3179900.0  \n",
       "1               3229540.0  \n",
       "2               3279180.0  \n",
       "3               3328820.0  \n",
       "4               3378460.0  \n",
       "...                   ...  \n",
       "13820           6938680.0  \n",
       "13821           7037600.0  \n",
       "13822           7054120.0  \n",
       "13823           7070640.0  \n",
       "13824           7087160.0  \n",
       "\n",
       "[13825 rows x 12 columns]"
      ]
     },
     "execution_count": 564,
     "metadata": {},
     "output_type": "execute_result"
    }
   ],
   "source": [
    "MergedDf"
   ]
  },
  {
   "cell_type": "code",
   "execution_count": 565,
   "metadata": {},
   "outputs": [],
   "source": [
    "# Now we add in extra datasets for getting maximum relevant attributes "
   ]
  },
  {
   "cell_type": "code",
   "execution_count": 566,
   "metadata": {},
   "outputs": [],
   "source": [
    "Fertilty_DF = pd.read_csv('Datasets/fertility-rate-children-per-woman.csv')\n",
    "Density_DF = pd.read_csv('Datasets/population-density.csv')"
   ]
  },
  {
   "cell_type": "code",
   "execution_count": 567,
   "metadata": {},
   "outputs": [
    {
     "name": "stdout",
     "output_type": "stream",
     "text": [
      "<class 'pandas.core.frame.DataFrame'>\n",
      "RangeIndex: 18722 entries, 0 to 18721\n",
      "Data columns (total 4 columns):\n",
      " #   Column                                                     Non-Null Count  Dtype  \n",
      "---  ------                                                     --------------  -----  \n",
      " 0   Entity                                                     18722 non-null  object \n",
      " 1   Code                                                       17612 non-null  object \n",
      " 2   Year                                                       18722 non-null  int64  \n",
      " 3   Fertility rate - Sex: all - Age: all - Variant: estimates  18722 non-null  float64\n",
      "dtypes: float64(1), int64(1), object(2)\n",
      "memory usage: 585.2+ KB\n"
     ]
    }
   ],
   "source": [
    "Fertilty_DF.info()"
   ]
  },
  {
   "cell_type": "code",
   "execution_count": 568,
   "metadata": {},
   "outputs": [
    {
     "data": {
      "text/plain": [
       "Entity                                                        253\n",
       "Code                                                          238\n",
       "Year                                                           74\n",
       "Fertility rate - Sex: all - Age: all - Variant: estimates    6222\n",
       "dtype: int64"
      ]
     },
     "execution_count": 568,
     "metadata": {},
     "output_type": "execute_result"
    }
   ],
   "source": [
    "Fertilty_DF.nunique()"
   ]
  },
  {
   "cell_type": "code",
   "execution_count": 569,
   "metadata": {},
   "outputs": [],
   "source": [
    "countries_in_df4_not_in_df2 = Fertilty_DF[~Fertilty_DF['Entity'].isin(MergedDf['Entity'])]\n"
   ]
  },
  {
   "cell_type": "code",
   "execution_count": 570,
   "metadata": {},
   "outputs": [],
   "source": [
    "countries_in_df5_not_in_df2 = Density_DF[~Density_DF['Entity'].isin(MergedDf['Entity'])]\n"
   ]
  },
  {
   "cell_type": "code",
   "execution_count": 571,
   "metadata": {},
   "outputs": [
    {
     "data": {
      "text/plain": [
       "(3922, 4)"
      ]
     },
     "execution_count": 571,
     "metadata": {},
     "output_type": "execute_result"
    }
   ],
   "source": [
    "countries_in_df4_not_in_df2.shape"
   ]
  },
  {
   "cell_type": "code",
   "execution_count": 572,
   "metadata": {},
   "outputs": [
    {
     "data": {
      "text/plain": [
       "Entity                                                         53\n",
       "Code                                                           38\n",
       "Year                                                           74\n",
       "Fertility rate - Sex: all - Age: all - Variant: estimates    2646\n",
       "dtype: int64"
      ]
     },
     "execution_count": 572,
     "metadata": {},
     "output_type": "execute_result"
    }
   ],
   "source": [
    "countries_in_df4_not_in_df2.nunique()"
   ]
  },
  {
   "cell_type": "code",
   "execution_count": 573,
   "metadata": {},
   "outputs": [
    {
     "data": {
      "text/plain": [
       "Entity                                                             53\n",
       "Code                                                               38\n",
       "Year                                                               74\n",
       "Population density - Sex: all - Age: all - Variant: estimates    3811\n",
       "dtype: int64"
      ]
     },
     "execution_count": 573,
     "metadata": {},
     "output_type": "execute_result"
    }
   ],
   "source": [
    "countries_in_df5_not_in_df2.nunique()"
   ]
  },
  {
   "cell_type": "code",
   "execution_count": 574,
   "metadata": {},
   "outputs": [],
   "source": [
    "Fertilty_DF.drop(countries_in_df4_not_in_df2['Entity'].index, inplace=True)\n"
   ]
  },
  {
   "cell_type": "code",
   "execution_count": 575,
   "metadata": {},
   "outputs": [
    {
     "data": {
      "text/plain": [
       "(14800, 4)"
      ]
     },
     "execution_count": 575,
     "metadata": {},
     "output_type": "execute_result"
    }
   ],
   "source": [
    "Fertilty_DF.shape"
   ]
  },
  {
   "cell_type": "code",
   "execution_count": 576,
   "metadata": {},
   "outputs": [],
   "source": [
    "Density_DF.drop(countries_in_df5_not_in_df2['Entity'].index, inplace=True)\n"
   ]
  },
  {
   "cell_type": "code",
   "execution_count": 577,
   "metadata": {},
   "outputs": [
    {
     "data": {
      "text/plain": [
       "(14800, 4)"
      ]
     },
     "execution_count": 577,
     "metadata": {},
     "output_type": "execute_result"
    }
   ],
   "source": [
    "Density_DF.shape"
   ]
  },
  {
   "cell_type": "code",
   "execution_count": 578,
   "metadata": {},
   "outputs": [],
   "source": [
    "# Now we are ready for our Final merge"
   ]
  },
  {
   "cell_type": "code",
   "execution_count": 579,
   "metadata": {},
   "outputs": [],
   "source": [
    "MergedDf=Fertilty_DF.merge(MergedDf, how='inner', left_on=['Code','Year','Entity'],right_on=['Code','Year','Entity'])"
   ]
  },
  {
   "cell_type": "code",
   "execution_count": 580,
   "metadata": {},
   "outputs": [],
   "source": [
    "Df_Final=Density_DF.merge(MergedDf, how='inner', left_on=['Code','Year','Entity'],right_on=['Code','Year','Entity'])"
   ]
  },
  {
   "cell_type": "code",
   "execution_count": 581,
   "metadata": {},
   "outputs": [
    {
     "data": {
      "text/html": [
       "<div>\n",
       "<style scoped>\n",
       "    .dataframe tbody tr th:only-of-type {\n",
       "        vertical-align: middle;\n",
       "    }\n",
       "\n",
       "    .dataframe tbody tr th {\n",
       "        vertical-align: top;\n",
       "    }\n",
       "\n",
       "    .dataframe thead th {\n",
       "        text-align: right;\n",
       "    }\n",
       "</style>\n",
       "<table border=\"1\" class=\"dataframe\">\n",
       "  <thead>\n",
       "    <tr style=\"text-align: right;\">\n",
       "      <th></th>\n",
       "      <th>Entity</th>\n",
       "      <th>Code</th>\n",
       "      <th>Year</th>\n",
       "      <th>Population density - Sex: all - Age: all - Variant: estimates</th>\n",
       "      <th>Fertility rate - Sex: all - Age: all - Variant: estimates</th>\n",
       "      <th>Males_per_100_Females</th>\n",
       "      <th>Growth_Rate</th>\n",
       "      <th>Education_Post_Secondary</th>\n",
       "      <th>Education_Upper_Secondary</th>\n",
       "      <th>Education_Lower_Secondary</th>\n",
       "      <th>Education_Primary</th>\n",
       "      <th>Education_Incomplete_Primary</th>\n",
       "      <th>Education_No_Education</th>\n",
       "      <th>Education_Under_15</th>\n",
       "    </tr>\n",
       "  </thead>\n",
       "  <tbody>\n",
       "    <tr>\n",
       "      <th>0</th>\n",
       "      <td>Afghanistan</td>\n",
       "      <td>AFG</td>\n",
       "      <td>1950</td>\n",
       "      <td>11.976</td>\n",
       "      <td>7.248</td>\n",
       "      <td>112.618350</td>\n",
       "      <td>1.275</td>\n",
       "      <td>800.0</td>\n",
       "      <td>5300.0</td>\n",
       "      <td>0.00</td>\n",
       "      <td>155000.0</td>\n",
       "      <td>0.0</td>\n",
       "      <td>4411200.0</td>\n",
       "      <td>3179900.0</td>\n",
       "    </tr>\n",
       "    <tr>\n",
       "      <th>1</th>\n",
       "      <td>Afghanistan</td>\n",
       "      <td>AFG</td>\n",
       "      <td>1951</td>\n",
       "      <td>12.135</td>\n",
       "      <td>7.260</td>\n",
       "      <td>112.082726</td>\n",
       "      <td>1.360</td>\n",
       "      <td>960.0</td>\n",
       "      <td>6240.0</td>\n",
       "      <td>0.00</td>\n",
       "      <td>163460.0</td>\n",
       "      <td>0.0</td>\n",
       "      <td>4455640.0</td>\n",
       "      <td>3229540.0</td>\n",
       "    </tr>\n",
       "    <tr>\n",
       "      <th>2</th>\n",
       "      <td>Afghanistan</td>\n",
       "      <td>AFG</td>\n",
       "      <td>1952</td>\n",
       "      <td>12.302</td>\n",
       "      <td>7.260</td>\n",
       "      <td>111.549540</td>\n",
       "      <td>1.374</td>\n",
       "      <td>1120.0</td>\n",
       "      <td>7180.0</td>\n",
       "      <td>0.00</td>\n",
       "      <td>171920.0</td>\n",
       "      <td>0.0</td>\n",
       "      <td>4500080.0</td>\n",
       "      <td>3279180.0</td>\n",
       "    </tr>\n",
       "    <tr>\n",
       "      <th>3</th>\n",
       "      <td>Afghanistan</td>\n",
       "      <td>AFG</td>\n",
       "      <td>1953</td>\n",
       "      <td>12.470</td>\n",
       "      <td>7.266</td>\n",
       "      <td>111.028630</td>\n",
       "      <td>1.335</td>\n",
       "      <td>1280.0</td>\n",
       "      <td>8120.0</td>\n",
       "      <td>0.00</td>\n",
       "      <td>180380.0</td>\n",
       "      <td>0.0</td>\n",
       "      <td>4544520.0</td>\n",
       "      <td>3328820.0</td>\n",
       "    </tr>\n",
       "    <tr>\n",
       "      <th>4</th>\n",
       "      <td>Afghanistan</td>\n",
       "      <td>AFG</td>\n",
       "      <td>1954</td>\n",
       "      <td>12.641</td>\n",
       "      <td>7.254</td>\n",
       "      <td>110.527310</td>\n",
       "      <td>1.394</td>\n",
       "      <td>1440.0</td>\n",
       "      <td>9060.0</td>\n",
       "      <td>0.00</td>\n",
       "      <td>188840.0</td>\n",
       "      <td>0.0</td>\n",
       "      <td>4588960.0</td>\n",
       "      <td>3378460.0</td>\n",
       "    </tr>\n",
       "    <tr>\n",
       "      <th>...</th>\n",
       "      <td>...</td>\n",
       "      <td>...</td>\n",
       "      <td>...</td>\n",
       "      <td>...</td>\n",
       "      <td>...</td>\n",
       "      <td>...</td>\n",
       "      <td>...</td>\n",
       "      <td>...</td>\n",
       "      <td>...</td>\n",
       "      <td>...</td>\n",
       "      <td>...</td>\n",
       "      <td>...</td>\n",
       "      <td>...</td>\n",
       "      <td>...</td>\n",
       "    </tr>\n",
       "    <tr>\n",
       "      <th>13820</th>\n",
       "      <td>Zimbabwe</td>\n",
       "      <td>ZWE</td>\n",
       "      <td>2019</td>\n",
       "      <td>39.476</td>\n",
       "      <td>3.748</td>\n",
       "      <td>90.228190</td>\n",
       "      <td>1.609</td>\n",
       "      <td>930440.0</td>\n",
       "      <td>4821040.0</td>\n",
       "      <td>2040240.08</td>\n",
       "      <td>1327360.0</td>\n",
       "      <td>604780.0</td>\n",
       "      <td>542700.0</td>\n",
       "      <td>6938680.0</td>\n",
       "    </tr>\n",
       "    <tr>\n",
       "      <th>13821</th>\n",
       "      <td>Zimbabwe</td>\n",
       "      <td>ZWE</td>\n",
       "      <td>2020</td>\n",
       "      <td>40.137</td>\n",
       "      <td>3.754</td>\n",
       "      <td>90.366800</td>\n",
       "      <td>1.709</td>\n",
       "      <td>980200.0</td>\n",
       "      <td>5077400.0</td>\n",
       "      <td>2052100.10</td>\n",
       "      <td>1315900.0</td>\n",
       "      <td>580900.0</td>\n",
       "      <td>518300.0</td>\n",
       "      <td>7037600.0</td>\n",
       "    </tr>\n",
       "    <tr>\n",
       "      <th>13822</th>\n",
       "      <td>Zimbabwe</td>\n",
       "      <td>ZWE</td>\n",
       "      <td>2021</td>\n",
       "      <td>40.835</td>\n",
       "      <td>3.765</td>\n",
       "      <td>90.517715</td>\n",
       "      <td>1.743</td>\n",
       "      <td>1036920.0</td>\n",
       "      <td>5376080.0</td>\n",
       "      <td>2075620.08</td>\n",
       "      <td>1296140.0</td>\n",
       "      <td>550960.0</td>\n",
       "      <td>489640.0</td>\n",
       "      <td>7054120.0</td>\n",
       "    </tr>\n",
       "    <tr>\n",
       "      <th>13823</th>\n",
       "      <td>Zimbabwe</td>\n",
       "      <td>ZWE</td>\n",
       "      <td>2022</td>\n",
       "      <td>41.538</td>\n",
       "      <td>3.767</td>\n",
       "      <td>90.700360</td>\n",
       "      <td>1.670</td>\n",
       "      <td>1093640.0</td>\n",
       "      <td>5674760.0</td>\n",
       "      <td>2099140.06</td>\n",
       "      <td>1276380.0</td>\n",
       "      <td>521020.0</td>\n",
       "      <td>460980.0</td>\n",
       "      <td>7070640.0</td>\n",
       "    </tr>\n",
       "    <tr>\n",
       "      <th>13824</th>\n",
       "      <td>Zimbabwe</td>\n",
       "      <td>ZWE</td>\n",
       "      <td>2023</td>\n",
       "      <td>42.241</td>\n",
       "      <td>3.724</td>\n",
       "      <td>90.899910</td>\n",
       "      <td>1.684</td>\n",
       "      <td>1150360.0</td>\n",
       "      <td>5973440.0</td>\n",
       "      <td>2122660.04</td>\n",
       "      <td>1256620.0</td>\n",
       "      <td>491080.0</td>\n",
       "      <td>432320.0</td>\n",
       "      <td>7087160.0</td>\n",
       "    </tr>\n",
       "  </tbody>\n",
       "</table>\n",
       "<p>13825 rows × 14 columns</p>\n",
       "</div>"
      ],
      "text/plain": [
       "            Entity Code  Year  \\\n",
       "0      Afghanistan  AFG  1950   \n",
       "1      Afghanistan  AFG  1951   \n",
       "2      Afghanistan  AFG  1952   \n",
       "3      Afghanistan  AFG  1953   \n",
       "4      Afghanistan  AFG  1954   \n",
       "...            ...  ...   ...   \n",
       "13820     Zimbabwe  ZWE  2019   \n",
       "13821     Zimbabwe  ZWE  2020   \n",
       "13822     Zimbabwe  ZWE  2021   \n",
       "13823     Zimbabwe  ZWE  2022   \n",
       "13824     Zimbabwe  ZWE  2023   \n",
       "\n",
       "       Population density - Sex: all - Age: all - Variant: estimates  \\\n",
       "0                                                 11.976               \n",
       "1                                                 12.135               \n",
       "2                                                 12.302               \n",
       "3                                                 12.470               \n",
       "4                                                 12.641               \n",
       "...                                                  ...               \n",
       "13820                                             39.476               \n",
       "13821                                             40.137               \n",
       "13822                                             40.835               \n",
       "13823                                             41.538               \n",
       "13824                                             42.241               \n",
       "\n",
       "       Fertility rate - Sex: all - Age: all - Variant: estimates  \\\n",
       "0                                                  7.248           \n",
       "1                                                  7.260           \n",
       "2                                                  7.260           \n",
       "3                                                  7.266           \n",
       "4                                                  7.254           \n",
       "...                                                  ...           \n",
       "13820                                              3.748           \n",
       "13821                                              3.754           \n",
       "13822                                              3.765           \n",
       "13823                                              3.767           \n",
       "13824                                              3.724           \n",
       "\n",
       "       Males_per_100_Females  Growth_Rate  Education_Post_Secondary  \\\n",
       "0                 112.618350        1.275                     800.0   \n",
       "1                 112.082726        1.360                     960.0   \n",
       "2                 111.549540        1.374                    1120.0   \n",
       "3                 111.028630        1.335                    1280.0   \n",
       "4                 110.527310        1.394                    1440.0   \n",
       "...                      ...          ...                       ...   \n",
       "13820              90.228190        1.609                  930440.0   \n",
       "13821              90.366800        1.709                  980200.0   \n",
       "13822              90.517715        1.743                 1036920.0   \n",
       "13823              90.700360        1.670                 1093640.0   \n",
       "13824              90.899910        1.684                 1150360.0   \n",
       "\n",
       "       Education_Upper_Secondary  Education_Lower_Secondary  \\\n",
       "0                         5300.0                       0.00   \n",
       "1                         6240.0                       0.00   \n",
       "2                         7180.0                       0.00   \n",
       "3                         8120.0                       0.00   \n",
       "4                         9060.0                       0.00   \n",
       "...                          ...                        ...   \n",
       "13820                  4821040.0                 2040240.08   \n",
       "13821                  5077400.0                 2052100.10   \n",
       "13822                  5376080.0                 2075620.08   \n",
       "13823                  5674760.0                 2099140.06   \n",
       "13824                  5973440.0                 2122660.04   \n",
       "\n",
       "       Education_Primary  Education_Incomplete_Primary  \\\n",
       "0               155000.0                           0.0   \n",
       "1               163460.0                           0.0   \n",
       "2               171920.0                           0.0   \n",
       "3               180380.0                           0.0   \n",
       "4               188840.0                           0.0   \n",
       "...                  ...                           ...   \n",
       "13820          1327360.0                      604780.0   \n",
       "13821          1315900.0                      580900.0   \n",
       "13822          1296140.0                      550960.0   \n",
       "13823          1276380.0                      521020.0   \n",
       "13824          1256620.0                      491080.0   \n",
       "\n",
       "       Education_No_Education  Education_Under_15  \n",
       "0                   4411200.0           3179900.0  \n",
       "1                   4455640.0           3229540.0  \n",
       "2                   4500080.0           3279180.0  \n",
       "3                   4544520.0           3328820.0  \n",
       "4                   4588960.0           3378460.0  \n",
       "...                       ...                 ...  \n",
       "13820                542700.0           6938680.0  \n",
       "13821                518300.0           7037600.0  \n",
       "13822                489640.0           7054120.0  \n",
       "13823                460980.0           7070640.0  \n",
       "13824                432320.0           7087160.0  \n",
       "\n",
       "[13825 rows x 14 columns]"
      ]
     },
     "execution_count": 581,
     "metadata": {},
     "output_type": "execute_result"
    }
   ],
   "source": [
    "Df_Final"
   ]
  },
  {
   "cell_type": "code",
   "execution_count": 582,
   "metadata": {},
   "outputs": [],
   "source": [
    "Df_Final.rename(columns={'Population density - Sex: all - Age: all - Variant: estimates':'Desnity',\n",
    "                         'Fertility rate - Sex: all - Age: all - Variant: estimates':'Ferility_Rate'},inplace=True)"
   ]
  },
  {
   "cell_type": "code",
   "execution_count": 583,
   "metadata": {},
   "outputs": [],
   "source": [
    "Df_Final.to_csv('Final_Data.csv')"
   ]
  }
 ],
 "metadata": {
  "kernelspec": {
   "display_name": "Python 3",
   "language": "python",
   "name": "python3"
  },
  "language_info": {
   "codemirror_mode": {
    "name": "ipython",
    "version": 3
   },
   "file_extension": ".py",
   "mimetype": "text/x-python",
   "name": "python",
   "nbconvert_exporter": "python",
   "pygments_lexer": "ipython3",
   "version": "3.12.4"
  }
 },
 "nbformat": 4,
 "nbformat_minor": 2
}
